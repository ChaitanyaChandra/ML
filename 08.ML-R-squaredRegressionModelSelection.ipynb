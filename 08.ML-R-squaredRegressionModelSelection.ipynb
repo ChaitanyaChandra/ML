{
 "cells": [
  {
   "cell_type": "markdown",
   "id": "2412e5da",
   "metadata": {
    "_cell_guid": "b1076dfc-b9ad-4769-8c92-a6c4dae69d19",
    "_uuid": "8f2839f25d086af736a60e9eeb907d3b93b6e0e5",
    "papermill": {
     "duration": 0.003469,
     "end_time": "2025-10-16T06:08:06.472148",
     "exception": false,
     "start_time": "2025-10-16T06:08:06.468679",
     "status": "completed"
    },
    "tags": []
   },
   "source": [
    "# R² (R-squared) — Coefficient of Determination\n",
    "\n",
    "\n",
    "\n",
    "## Concept\n",
    "\n",
    "**Goal:**\n",
    "To measure **how well a regression model fits** the actual data — i.e., how much of the variation in the target variable $( y )$ is explained by your model.\n",
    "\n",
    "\n",
    "\n",
    "## Explanation\n",
    "\n",
    "### 1. Two Situations to Compare\n",
    "\n",
    "\n",
    "1. **Regression line** → a line fitted by the model (using ordinary least squares).\n",
    "2. **Average line** → a horizontal line at the mean of all $( y )$-values.\n",
    "\n",
    "\n",
    "\n",
    "### 2. Residual Sum of Squares (SSR or RSS)\n",
    "\n",
    "When you draw the **regression line**, you measure how far each real data point $( y_i )$ is from the predicted point $( \\hat{y}_i )$ on the line.\n",
    "\n",
    "$SS_{res} = \\sum (y_i - \\hat{y}_i)^2$\n",
    "\n",
    "✅ This tells you how much **error** (unexplained variance) your model still has after fitting.\n",
    "\n",
    "\n",
    "\n",
    "### 3. Total Sum of Squares (SST)\n",
    "\n",
    "Now imagine no model at all — just an **average line** through the mean of all $( y )$-values $(( \\bar{y} ))$.\n",
    "\n",
    "$\n",
    "SS_{tot} = \\sum (y_i - \\bar{y})^2\n",
    "$\n",
    "\n",
    "✅ This shows **total variation** in the data — how much all $( y_i )$ values differ from their average.\n",
    "\n",
    "\n",
    "\n",
    "### 4. Formula for R²\n",
    "\n",
    "$\n",
    "R^2 = 1 - \\frac{SS_{res}}{SS_{tot}}\n",
    "$\n",
    "\n",
    "\n",
    "\n",
    "### 5. Intuition\n",
    "\n",
    "* If your regression line fits well → $( SS_{res} )$ is **small**, so $( R^2 )$ is **close to 1** ✅\n",
    "* If your regression line fits poorly → $( SS_{res} )$ is **large**, so $( R^2 )$ is **close to 0** ❌\n",
    "\n",
    "\n",
    "\n",
    "### 6. Typical R² Values and Interpretation\n",
    "\n",
    "| R² Value      | Interpretation                                                                     |\n",
    "| - | - |\n",
    "| **1.0**       | Perfect fit — model predicts every point exactly (almost impossible in real data). |\n",
    "| **0.9**       | Excellent fit — model explains 90% of data variation.                              |\n",
    "| **0.7 – 0.9** | Good fit — quite reliable.                                                         |\n",
    "| **0.4 – 0.7** | Weak fit — model misses a lot of variation.                                        |\n",
    "| **< 0.4**     | Poor fit — not a good model.                                                       |\n",
    "| **< 0**       | Model is worse than just using the mean — model is *nonsense* for this data.       |\n",
    "\n",
    "\n",
    "\n",
    "### 8. Summary\n",
    "\n",
    "> R² tells you **how much better your model is than just predicting the average** every time.\n",
    "\n",
    "If your model doesn’t improve much over just using the mean, R² will be low.\n",
    "If it explains most of the variation, R² will be high.\n",
    "\n",
    "---\n",
    "\n",
    "## Adjusted R² (Adjusted R Squared)\n",
    "\n",
    "### Definition\n",
    "\n",
    "**Adjusted R²** is a modified version of **R² (Coefficient of Determination)** that adjusts for the number of independent variables in a regression model.\n",
    "It penalizes the model for adding unnecessary variables that do not significantly improve the prediction.\n",
    "\n",
    "\n",
    "\n",
    "## ⚠️ Problem with R²\n",
    "\n",
    "When you **add more variables** (X₃, X₄, etc.) to a regression model:\n",
    "\n",
    "* The **total sum of squares (SSₜₒₜ)** remains the same (it depends only on actual y values).\n",
    "* The **residual sum of squares (SSᵣₑₛ)** **can only decrease or stay the same** because:\n",
    "\n",
    "  * The **Ordinary Least Squares (OLS)** method minimizes SSᵣₑₛ.\n",
    "  * If the new variable helps, SSᵣₑₛ decreases.\n",
    "  * If it doesn’t help, OLS sets its coefficient (b₃) to **zero**, keeping SSᵣₑₛ unchanged.\n",
    "* Therefore, **R² never decreases**, even if the new variable is useless.\n",
    "\n",
    "🧠 **Result:**\n",
    "You might end up with a model that includes unnecessary variables just because R² keeps increasing.\n",
    "\n",
    "\n",
    "## 💡 Solution: Adjusted R²\n",
    "\n",
    "### Formula\n",
    "\n",
    "$\n",
    "\\text{Adjusted } R^2 = 1 - \\left( \\frac{(1 - R^2)(n - 1)}{n - k - 1} \\right)\n",
    "$\n",
    "\n",
    "Where:\n",
    "\n",
    "* **n** = Number of observations (sample size)\n",
    "* **k** = Number of independent variables\n",
    "\n",
    "\n",
    "### How It Works\n",
    "\n",
    "* As **k (number of predictors)** increases, the **denominator** ((n - k - 1)) decreases.\n",
    "* This makes the ratio larger → leading to **lower Adjusted R²**.\n",
    "* Therefore, **Adjusted R² penalizes** adding variables that don’t significantly improve the model.\n",
    "\n",
    "\n",
    "### Key Insight\n",
    "\n",
    "* Adding a new variable will **only increase Adjusted R²** if the variable provides a **meaningful improvement** in prediction.\n",
    "* If it doesn’t, Adjusted R² will **decrease** — discouraging overfitting.\n",
    "\n",
    "\n",
    "##  Summary\n",
    "\n",
    "| Concept           | Description                                                                                                |\n",
    "| ----------------- | ---------------------------------------------------------------------------------------------------------- |\n",
    "| **R²**            | Measures model fit — how much of y’s variation is explained by x’s.                                        |\n",
    "| **Issue with R²** | Always increases when new variables are added, even useless ones.                                          |\n",
    "| **Adjusted R²**   | Adds a penalty for adding variables — increases only if the new variable significantly improves model fit. |\n",
    "| **Purpose**       | Helps build parsimonious (simple but effective) models.                                                    |\n",
    "\n",
    "\n",
    "## Intuitive Understanding\n",
    "\n",
    "* R² = “How well are we fitting the data?”\n",
    "* Adjusted R² = “How well are we fitting the data **without overcomplicating** the model?”\n",
    "\n",
    "---\n",
    "\n",
    "\n",
    "### **Solve:**\n",
    "\n",
    "You are given an [Energy.csv dataset](https://www.kaggle.com/datasets/chaitanyachandra/data-csv?select=Energy.csv)  dataset containing several independent features (e.g., temperature, pressure, etc.) and one dependent variable (Energy Output).\n",
    "\n",
    "Your task is to compare different regression models and evaluate their performance.\n",
    "\n",
    "\n",
    "### **Tasks:**\n",
    "\n",
    "1. **Load and explore** the dataset from [Energy.csv dataset](https://www.kaggle.com/datasets/chaitanyachandra/data-csv?select=Energy.csv).\n",
    "2. **Split** the dataset into training and testing sets (80% train, 20% test).\n",
    "3. Train the following regression models:\n",
    "\n",
    "   * **Linear Regression**\n",
    "   * **Polynomial Regression (degree = 4)**\n",
    "   * **Support Vector Regression (RBF kernel)**\n",
    "   * **Decision Tree Regression**\n",
    "   * **Random Forest Regression (n_estimators = 100)**\n",
    "4. For **Support Vector Regression**, make sure to:\n",
    "   * Apply **feature scaling** to both the independent and dependent variables.\n",
    "   * **Inverse transform** predictions to their original scale.\n",
    "5. Compute the **R² score** for each model and store the results in a dictionary named `scores`.\n",
    "6. **Plot a bar chart** comparing the R² scores of all models.\n",
    "\n",
    "\n",
    "\n"
   ]
  },
  {
   "cell_type": "code",
   "execution_count": 1,
   "id": "22e43342",
   "metadata": {
    "execution": {
     "iopub.execute_input": "2025-10-16T06:08:06.481567Z",
     "iopub.status.busy": "2025-10-16T06:08:06.481127Z",
     "iopub.status.idle": "2025-10-16T06:08:10.115999Z",
     "shell.execute_reply": "2025-10-16T06:08:10.115225Z"
    },
    "papermill": {
     "duration": 3.641875,
     "end_time": "2025-10-16T06:08:10.117680",
     "exception": false,
     "start_time": "2025-10-16T06:08:06.475805",
     "status": "completed"
    },
    "tags": []
   },
   "outputs": [],
   "source": [
    "# import packages\n",
    "import numpy as np\n",
    "import pandas as pd\n",
    "import matplotlib.pyplot as plt\n",
    "from sklearn.metrics import r2_score\n",
    "from sklearn.linear_model import LinearRegression\n",
    "from sklearn.preprocessing import PolynomialFeatures\n",
    "from sklearn.svm import SVR\n",
    "from sklearn.preprocessing import StandardScaler\n",
    "from sklearn.tree import  DecisionTreeRegressor\n",
    "from sklearn.ensemble import RandomForestRegressor\n"
   ]
  },
  {
   "cell_type": "code",
   "execution_count": 2,
   "id": "ed7f4b29",
   "metadata": {
    "execution": {
     "iopub.execute_input": "2025-10-16T06:08:10.124333Z",
     "iopub.status.busy": "2025-10-16T06:08:10.123879Z",
     "iopub.status.idle": "2025-10-16T06:08:10.128002Z",
     "shell.execute_reply": "2025-10-16T06:08:10.127318Z"
    },
    "papermill": {
     "duration": 0.008821,
     "end_time": "2025-10-16T06:08:10.129293",
     "exception": false,
     "start_time": "2025-10-16T06:08:10.120472",
     "status": "completed"
    },
    "tags": []
   },
   "outputs": [],
   "source": [
    "# variables\n",
    "scores = {}"
   ]
  },
  {
   "cell_type": "code",
   "execution_count": 3,
   "id": "344e1ede",
   "metadata": {
    "execution": {
     "iopub.execute_input": "2025-10-16T06:08:10.136078Z",
     "iopub.status.busy": "2025-10-16T06:08:10.135502Z",
     "iopub.status.idle": "2025-10-16T06:08:10.189964Z",
     "shell.execute_reply": "2025-10-16T06:08:10.189053Z"
    },
    "papermill": {
     "duration": 0.059131,
     "end_time": "2025-10-16T06:08:10.191311",
     "exception": false,
     "start_time": "2025-10-16T06:08:10.132180",
     "status": "completed"
    },
    "tags": []
   },
   "outputs": [
    {
     "data": {
      "text/html": [
       "<div>\n",
       "<style scoped>\n",
       "    .dataframe tbody tr th:only-of-type {\n",
       "        vertical-align: middle;\n",
       "    }\n",
       "\n",
       "    .dataframe tbody tr th {\n",
       "        vertical-align: top;\n",
       "    }\n",
       "\n",
       "    .dataframe thead th {\n",
       "        text-align: right;\n",
       "    }\n",
       "</style>\n",
       "<table border=\"1\" class=\"dataframe\">\n",
       "  <thead>\n",
       "    <tr style=\"text-align: right;\">\n",
       "      <th></th>\n",
       "      <th>AT</th>\n",
       "      <th>V</th>\n",
       "      <th>AP</th>\n",
       "      <th>RH</th>\n",
       "      <th>PE</th>\n",
       "    </tr>\n",
       "  </thead>\n",
       "  <tbody>\n",
       "    <tr>\n",
       "      <th>0</th>\n",
       "      <td>14.96</td>\n",
       "      <td>41.76</td>\n",
       "      <td>1024.07</td>\n",
       "      <td>73.17</td>\n",
       "      <td>463.26</td>\n",
       "    </tr>\n",
       "    <tr>\n",
       "      <th>1</th>\n",
       "      <td>25.18</td>\n",
       "      <td>62.96</td>\n",
       "      <td>1020.04</td>\n",
       "      <td>59.08</td>\n",
       "      <td>444.37</td>\n",
       "    </tr>\n",
       "    <tr>\n",
       "      <th>2</th>\n",
       "      <td>5.11</td>\n",
       "      <td>39.40</td>\n",
       "      <td>1012.16</td>\n",
       "      <td>92.14</td>\n",
       "      <td>488.56</td>\n",
       "    </tr>\n",
       "    <tr>\n",
       "      <th>3</th>\n",
       "      <td>20.86</td>\n",
       "      <td>57.32</td>\n",
       "      <td>1010.24</td>\n",
       "      <td>76.64</td>\n",
       "      <td>446.48</td>\n",
       "    </tr>\n",
       "    <tr>\n",
       "      <th>4</th>\n",
       "      <td>10.82</td>\n",
       "      <td>37.50</td>\n",
       "      <td>1009.23</td>\n",
       "      <td>96.62</td>\n",
       "      <td>473.90</td>\n",
       "    </tr>\n",
       "  </tbody>\n",
       "</table>\n",
       "</div>"
      ],
      "text/plain": [
       "      AT      V       AP     RH      PE\n",
       "0  14.96  41.76  1024.07  73.17  463.26\n",
       "1  25.18  62.96  1020.04  59.08  444.37\n",
       "2   5.11  39.40  1012.16  92.14  488.56\n",
       "3  20.86  57.32  1010.24  76.64  446.48\n",
       "4  10.82  37.50  1009.23  96.62  473.90"
      ]
     },
     "execution_count": 3,
     "metadata": {},
     "output_type": "execute_result"
    }
   ],
   "source": [
    "# read CSV\n",
    "data = pd.read_csv(\"/kaggle/input/data-csv/Energy.csv\")\n",
    "data.head()"
   ]
  },
  {
   "cell_type": "code",
   "execution_count": 4,
   "id": "79401b3c",
   "metadata": {
    "execution": {
     "iopub.execute_input": "2025-10-16T06:08:10.198134Z",
     "iopub.status.busy": "2025-10-16T06:08:10.197864Z",
     "iopub.status.idle": "2025-10-16T06:08:10.202638Z",
     "shell.execute_reply": "2025-10-16T06:08:10.201910Z"
    },
    "papermill": {
     "duration": 0.009511,
     "end_time": "2025-10-16T06:08:10.203868",
     "exception": false,
     "start_time": "2025-10-16T06:08:10.194357",
     "status": "completed"
    },
    "tags": []
   },
   "outputs": [],
   "source": [
    "# split dependent and independent cells\n",
    "independent_x = data.iloc[:, :-1].values\n",
    "dependent_y = data.iloc[:, -1].values"
   ]
  },
  {
   "cell_type": "code",
   "execution_count": 5,
   "id": "30fce51d",
   "metadata": {
    "execution": {
     "iopub.execute_input": "2025-10-16T06:08:10.210857Z",
     "iopub.status.busy": "2025-10-16T06:08:10.210623Z",
     "iopub.status.idle": "2025-10-16T06:08:10.220378Z",
     "shell.execute_reply": "2025-10-16T06:08:10.219391Z"
    },
    "papermill": {
     "duration": 0.014675,
     "end_time": "2025-10-16T06:08:10.221746",
     "exception": false,
     "start_time": "2025-10-16T06:08:10.207071",
     "status": "completed"
    },
    "tags": []
   },
   "outputs": [
    {
     "data": {
      "text/plain": [
       "(array([[  11.22,   43.13, 1017.24,   80.9 ],\n",
       "        [  13.67,   54.3 , 1015.92,   75.42],\n",
       "        [  32.84,   77.95, 1014.68,   45.8 ],\n",
       "        ...,\n",
       "        [  16.81,   38.52, 1018.26,   75.21],\n",
       "        [  12.8 ,   41.16, 1022.43,   86.19],\n",
       "        [  32.32,   67.9 , 1006.08,   37.93]]),\n",
       " array([[  28.66,   77.95, 1009.56,   69.07],\n",
       "        [  17.48,   49.39, 1021.51,   84.53],\n",
       "        [  14.86,   43.14, 1019.21,   99.14],\n",
       "        ...,\n",
       "        [  12.24,   44.92, 1023.74,   88.21],\n",
       "        [  27.28,   47.93, 1003.46,   59.22],\n",
       "        [  17.28,   39.99, 1007.09,   74.25]]),\n",
       " array([473.93, 467.87, 431.97, ..., 459.01, 462.72, 428.12]),\n",
       " array([431.23, 460.01, 461.14, ..., 473.26, 438.  , 463.28]))"
      ]
     },
     "execution_count": 5,
     "metadata": {},
     "output_type": "execute_result"
    }
   ],
   "source": [
    "# split train and test data \n",
    "from sklearn.model_selection import train_test_split\n",
    "x_train, x_test, y_train, y_test = train_test_split(independent_x, dependent_y, random_state=0, test_size=0.2)\n",
    "\n",
    "x_train, x_test, y_train, y_test"
   ]
  },
  {
   "cell_type": "code",
   "execution_count": 6,
   "id": "6338b0f3",
   "metadata": {
    "execution": {
     "iopub.execute_input": "2025-10-16T06:08:10.229420Z",
     "iopub.status.busy": "2025-10-16T06:08:10.228662Z",
     "iopub.status.idle": "2025-10-16T06:08:10.268291Z",
     "shell.execute_reply": "2025-10-16T06:08:10.267305Z"
    },
    "papermill": {
     "duration": 0.045195,
     "end_time": "2025-10-16T06:08:10.270046",
     "exception": false,
     "start_time": "2025-10-16T06:08:10.224851",
     "status": "completed"
    },
    "tags": []
   },
   "outputs": [],
   "source": [
    "# Multi-Linear regression \n",
    "lr = LinearRegression()\n",
    "lr.fit(x_train, y_train)\n",
    "scores[\"Linear\"] = r2_score(y_test, lr.predict(x_test))"
   ]
  },
  {
   "cell_type": "code",
   "execution_count": 7,
   "id": "ed170eb2",
   "metadata": {
    "execution": {
     "iopub.execute_input": "2025-10-16T06:08:10.277266Z",
     "iopub.status.busy": "2025-10-16T06:08:10.276943Z",
     "iopub.status.idle": "2025-10-16T06:08:10.358628Z",
     "shell.execute_reply": "2025-10-16T06:08:10.355320Z"
    },
    "papermill": {
     "duration": 0.088177,
     "end_time": "2025-10-16T06:08:10.361436",
     "exception": false,
     "start_time": "2025-10-16T06:08:10.273259",
     "status": "completed"
    },
    "tags": []
   },
   "outputs": [],
   "source": [
    "# Polynomial Linear Regression\n",
    "pr = PolynomialFeatures(degree=4)\n",
    "lr2 = LinearRegression()\n",
    "lr2.fit(pr.fit_transform(x_train), y_train)\n",
    "scores[\"Polynomial\"] = r2_score(y_test, lr2.predict(pr.transform(x_test)))"
   ]
  },
  {
   "cell_type": "code",
   "execution_count": 8,
   "id": "403f5c55",
   "metadata": {
    "execution": {
     "iopub.execute_input": "2025-10-16T06:08:10.378353Z",
     "iopub.status.busy": "2025-10-16T06:08:10.376681Z",
     "iopub.status.idle": "2025-10-16T06:08:12.906496Z",
     "shell.execute_reply": "2025-10-16T06:08:12.905577Z"
    },
    "papermill": {
     "duration": 2.537477,
     "end_time": "2025-10-16T06:08:12.908080",
     "exception": false,
     "start_time": "2025-10-16T06:08:10.370603",
     "status": "completed"
    },
    "tags": []
   },
   "outputs": [],
   "source": [
    "# Support Vector Regression\n",
    "sc_x = StandardScaler()\n",
    "sc_y = StandardScaler()\n",
    "\n",
    "x_train_sc = sc_x.fit_transform(x_train)                   \n",
    "x_test_sc  = sc_x.transform(x_test)                      \n",
    "\n",
    "y_train_2d = np.asarray(y_train).reshape(-1, 1)             \n",
    "y_train_sc = sc_y.fit_transform(y_train_2d).ravel()      \n",
    "\n",
    "svm = SVR(kernel='rbf')                                     \n",
    "svm.fit(x_train_sc, y_train_sc)                             \n",
    "\n",
    "y_pred_sc = svm.predict(x_test_sc)                          \n",
    "y_pred = sc_y.inverse_transform(y_pred_sc.reshape(-1,1)).ravel()  \n",
    "\n",
    "scores[\"Support Vector\"] = r2_score(y_test, y_pred) "
   ]
  },
  {
   "cell_type": "code",
   "execution_count": 9,
   "id": "a2eed555",
   "metadata": {
    "execution": {
     "iopub.execute_input": "2025-10-16T06:08:12.915488Z",
     "iopub.status.busy": "2025-10-16T06:08:12.915102Z",
     "iopub.status.idle": "2025-10-16T06:08:12.961400Z",
     "shell.execute_reply": "2025-10-16T06:08:12.960426Z"
    },
    "papermill": {
     "duration": 0.051771,
     "end_time": "2025-10-16T06:08:12.963165",
     "exception": false,
     "start_time": "2025-10-16T06:08:12.911394",
     "status": "completed"
    },
    "tags": []
   },
   "outputs": [],
   "source": [
    "# Decision Tree Regression\n",
    "dt = DecisionTreeRegressor()\n",
    "dt.fit(x_train, y_train)\n",
    "scores[\"Decision Tree\"] = r2_score(y_test, dt.predict(x_test)) "
   ]
  },
  {
   "cell_type": "code",
   "execution_count": 10,
   "id": "bc2b1bcc",
   "metadata": {
    "execution": {
     "iopub.execute_input": "2025-10-16T06:08:12.970953Z",
     "iopub.status.busy": "2025-10-16T06:08:12.970652Z",
     "iopub.status.idle": "2025-10-16T06:08:13.263041Z",
     "shell.execute_reply": "2025-10-16T06:08:13.262078Z"
    },
    "papermill": {
     "duration": 0.298394,
     "end_time": "2025-10-16T06:08:13.264893",
     "exception": false,
     "start_time": "2025-10-16T06:08:12.966499",
     "status": "completed"
    },
    "tags": []
   },
   "outputs": [],
   "source": [
    "# Random Forest Regression\n",
    "rfr = RandomForestRegressor(random_state=0, n_estimators=10)\n",
    "rfr.fit(x_train, y_train)\n",
    "scores[\"Random Forest\"] = r2_score(y_test, rfr.predict(x_test)) "
   ]
  },
  {
   "cell_type": "code",
   "execution_count": 11,
   "id": "fa202beb",
   "metadata": {
    "execution": {
     "iopub.execute_input": "2025-10-16T06:08:13.272778Z",
     "iopub.status.busy": "2025-10-16T06:08:13.272509Z",
     "iopub.status.idle": "2025-10-16T06:08:13.277790Z",
     "shell.execute_reply": "2025-10-16T06:08:13.277077Z"
    },
    "papermill": {
     "duration": 0.010547,
     "end_time": "2025-10-16T06:08:13.278933",
     "exception": false,
     "start_time": "2025-10-16T06:08:13.268386",
     "status": "completed"
    },
    "tags": []
   },
   "outputs": [
    {
     "data": {
      "text/plain": [
       "{'Linear': 0.9325315554761303,\n",
       " 'Polynomial': 0.9458193553910528,\n",
       " 'Support Vector': 0.9480793454190317,\n",
       " 'Decision Tree': 0.9243090485742416,\n",
       " 'Random Forest': 0.9615908334363876}"
      ]
     },
     "execution_count": 11,
     "metadata": {},
     "output_type": "execute_result"
    }
   ],
   "source": [
    "scores"
   ]
  },
  {
   "cell_type": "code",
   "execution_count": 12,
   "id": "ceddb675",
   "metadata": {
    "execution": {
     "iopub.execute_input": "2025-10-16T06:08:13.286502Z",
     "iopub.status.busy": "2025-10-16T06:08:13.286217Z",
     "iopub.status.idle": "2025-10-16T06:08:13.538361Z",
     "shell.execute_reply": "2025-10-16T06:08:13.537393Z"
    },
    "papermill": {
     "duration": 0.257857,
     "end_time": "2025-10-16T06:08:13.540143",
     "exception": false,
     "start_time": "2025-10-16T06:08:13.282286",
     "status": "completed"
    },
    "tags": []
   },
   "outputs": [
    {
     "data": {
      "image/png": "[encoded data removed]",
      "text/plain": [
       "<Figure size 800x500 with 1 Axes>"
      ]
     },
     "metadata": {},
     "output_type": "display_data"
    }
   ],
   "source": [
    "models = list(scores.keys())\n",
    "values = list(scores.values())\n",
    "\n",
    "# Plot\n",
    "plt.figure(figsize=(8,5))\n",
    "plt.bar(models, values, color='skyblue')\n",
    "plt.title('Model Performance Comparison')\n",
    "plt.ylabel('R² Score')\n",
    "plt.xticks(rotation=20, ha='right')\n",
    "plt.ylim(0.9, 1)\n",
    "plt.grid(axis='y', linestyle='--', alpha=0.7)\n",
    "plt.tight_layout()\n",
    "plt.show()"
   ]
  }
 ],
 "metadata": {
  "kaggle": {
   "accelerator": "none",
   "dataSources": [
    {
     "datasetId": 7769196,
     "sourceId": 13360758,
     "sourceType": "datasetVersion"
    }
   ],
   "isGpuEnabled": false,
   "isInternetEnabled": true,
   "language": "python",
   "sourceType": "notebook"
  },
  "kernelspec": {
   "display_name": "Python 3",
   "language": "python",
   "name": "python3"
  },
  "language_info": {
   "codemirror_mode": {
    "name": "ipython",
    "version": 3
   },
   "file_extension": ".py",
   "mimetype": "text/x-python",
   "name": "python",
   "nbconvert_exporter": "python",
   "pygments_lexer": "ipython3",
   "version": "3.11.13"
  },
  "papermill": {
   "default_parameters": {},
   "duration": 12.066795,
   "end_time": "2025-10-16T06:08:14.164258",
   "environment_variables": {},
   "exception": null,
   "input_path": "__notebook__.ipynb",
   "output_path": "__notebook__.ipynb",
   "parameters": {},
   "start_time": "2025-10-16T06:08:02.097463",
   "version": "2.6.0"
  }
 },
 "nbformat": 4,
 "nbformat_minor": 5
}
