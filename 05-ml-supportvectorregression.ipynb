{
 "cells": [
  {
   "cell_type": "markdown",
   "id": "92ca4884",
   "metadata": {
    "_cell_guid": "b1076dfc-b9ad-4769-8c92-a6c4dae69d19",
    "_uuid": "8f2839f25d086af736a60e9eeb907d3b93b6e0e5",
    "papermill": {
     "duration": 0.002849,
     "end_time": "2025-09-23T15:21:15.169883",
     "exception": false,
     "start_time": "2025-09-23T15:21:15.167034",
     "status": "completed"
    },
    "tags": []
   },
   "source": [
    "## Support Vector Regression (SVR)\n",
    "\n",
    "* SVR is a type of regression that tries to fit the **best possible line (or curve)** within a certain **margin of tolerance (ε-insensitive tube)**.\n",
    "* It uses **kernels** (like RBF, polynomial, linear) to handle **non-linear relationships**.\n",
    "\n",
    "### Formula (RBF Kernel):\n",
    "\n",
    "The prediction function is:\n",
    "\n",
    "$\n",
    "\\hat{y} = \\sum\\_{i=1}^m (\\alpha\\_i - \\alpha\\_i^*) K(x\\_i, x) + b\n",
    "$\n",
    "\n",
    "Where:\n",
    "\n",
    "* **$x\\_i$** → Support vectors (key data points that define the margin)\n",
    "* **$\\alpha\\_i, \\alpha\\_i^*$** → Coefficients learned by the model\n",
    "* **$K(x\\_i, x)$** → Kernel function (RBF in this case)\n",
    "\n",
    "For the **Radial Basis Function (RBF) kernel**:\n",
    "\n",
    "$\n",
    "K(x\\_i, x) = \\exp \\Big( -\\gamma | x\\_i - x |^2 \\Big)\n",
    "$\n",
    "\n",
    "\n",
    "\n",
    "\n",
    "### Explanation:\n",
    "\n",
    "* **$\\hat{y}$** → The predicted output (Salary)\n",
    "* **$K(x\\_i, x)$** → Measures similarity between input $x$ and support vector $x\\_i$\n",
    "* **$\\gamma$** → Controls how far the influence of a single support vector reaches\n",
    "* **ε (epsilon)** → Defines a margin of tolerance (errors within ±ε are ignored)\n",
    "\n",
    "\n",
    "### What it means:\n",
    "\n",
    "* Instead of fitting a **line (Linear Regression)** or a **polynomial curve (Polynomial Regression)**, SVR tries to fit a **smooth curve** that keeps most predictions within an acceptable margin.\n",
    "* With **RBF kernel**, SVR can model very **complex and curved relationships**.\n",
    "\n",
    "\n",
    "### Example: Position vs Salary (Non-linear Growth)\n",
    "\n",
    "Suppose Salary doesn’t increase linearly with Level but grows in a **curved pattern**.\n",
    "SVR with **RBF kernel** can capture this growth better than simple linear or polynomial regression.\n",
    "\n",
    "\n",
    "### Let’s try with some sample values (not exact, just illustrative):\n",
    "\n",
    "| Level (x) | Actual Salary (Y) | Linear Predicted | Polynomial Predicted | SVR (RBF) Predicted |\n",
    "| --------- | ----------------- | ---------------- | -------------------- | ------------------- |\n",
    "| 1         | 45k               | 40k              | 44k                  | 45k                 |\n",
    "| 3         | 60k               | 55k              | 61k                  | 60k                 |\n",
    "| 6         | 150k              | 100k             | 140k                 | 148k                |\n",
    "| 10        | 1M                | 300k             | 950k                 | 1M                  |\n",
    "\n",
    "SVR adapts smoothly because of the **RBF kernel** similarity function.\n",
    "\n",
    "---\n",
    "\n",
    "### Solve:\n",
    "\n",
    "* You are given a [Position\\_Salaries.csv dataset](https://www.kaggle.com/datasets/chaitanyachandra/data-csv?select=Position_Salaries.csv) containing:\n",
    "\n",
    "  * **Position** (string, e.g., \"Business Analyst\", \"CEO\")\n",
    "  * **Level** (numeric, 1–10)\n",
    "  * **Salary** (numeric, target variable)\n",
    "\n",
    "* Build an **SVR model with RBF kernel** to predict Salary from Level.\n",
    "\n",
    "* Tasks:\n",
    "\n",
    "  * Load and explore the dataset.\n",
    "  * Select `Level` as the independent variable and `Salary` as the dependent variable.\n",
    "  * Scale features (StandardScaler) since SVR is sensitive to feature scaling.\n",
    "  * Train an SVR model with **RBF kernel**.\n",
    "  * Create a numpy array with predicted data.\n",
    "  * Plot predictions vs actual salaries.\n",
    "\n"
   ]
  },
  {
   "cell_type": "code",
   "execution_count": 1,
   "id": "6e052a13",
   "metadata": {
    "execution": {
     "iopub.execute_input": "2025-09-23T15:21:15.176106Z",
     "iopub.status.busy": "2025-09-23T15:21:15.175682Z",
     "iopub.status.idle": "2025-09-23T15:21:17.091523Z",
     "shell.execute_reply": "2025-09-23T15:21:17.090634Z"
    },
    "papermill": {
     "duration": 1.920964,
     "end_time": "2025-09-23T15:21:17.093450",
     "exception": false,
     "start_time": "2025-09-23T15:21:15.172486",
     "status": "completed"
    },
    "tags": []
   },
   "outputs": [],
   "source": [
    "# import packages\n",
    "import numpy as np\n",
    "import pandas as pd\n",
    "import matplotlib.pyplot as plt"
   ]
  },
  {
   "cell_type": "code",
   "execution_count": 2,
   "id": "288a7042",
   "metadata": {
    "execution": {
     "iopub.execute_input": "2025-09-23T15:21:17.099213Z",
     "iopub.status.busy": "2025-09-23T15:21:17.098666Z",
     "iopub.status.idle": "2025-09-23T15:21:17.127026Z",
     "shell.execute_reply": "2025-09-23T15:21:17.126149Z"
    },
    "papermill": {
     "duration": 0.032747,
     "end_time": "2025-09-23T15:21:17.128460",
     "exception": false,
     "start_time": "2025-09-23T15:21:17.095713",
     "status": "completed"
    },
    "tags": []
   },
   "outputs": [
    {
     "data": {
      "text/plain": [
       "(array([[ 1],\n",
       "        [ 2],\n",
       "        [ 3],\n",
       "        [ 4],\n",
       "        [ 5],\n",
       "        [ 6],\n",
       "        [ 7],\n",
       "        [ 8],\n",
       "        [ 9],\n",
       "        [10]]),\n",
       " array([[  45000],\n",
       "        [  50000],\n",
       "        [  60000],\n",
       "        [  80000],\n",
       "        [ 110000],\n",
       "        [ 150000],\n",
       "        [ 200000],\n",
       "        [ 300000],\n",
       "        [ 500000],\n",
       "        [1000000]]))"
      ]
     },
     "execution_count": 2,
     "metadata": {},
     "output_type": "execute_result"
    }
   ],
   "source": [
    "# import data-set\n",
    "dataset = pd.read_csv(\"/kaggle/input/data-csv/Position_Salaries.csv\")\n",
    "independent_x = dataset.iloc[:, 1:-1].values\n",
    "dependent_y = dataset.iloc[:, -1].values \n",
    "dependent_y = dependent_y.reshape(len(dependent_y), 1)\n",
    "independent_x, dependent_y"
   ]
  },
  {
   "cell_type": "code",
   "execution_count": 3,
   "id": "03335b25",
   "metadata": {
    "execution": {
     "iopub.execute_input": "2025-09-23T15:21:17.134412Z",
     "iopub.status.busy": "2025-09-23T15:21:17.134080Z",
     "iopub.status.idle": "2025-09-23T15:21:18.585831Z",
     "shell.execute_reply": "2025-09-23T15:21:18.584871Z"
    },
    "papermill": {
     "duration": 1.456475,
     "end_time": "2025-09-23T15:21:18.587294",
     "exception": false,
     "start_time": "2025-09-23T15:21:17.130819",
     "status": "completed"
    },
    "tags": []
   },
   "outputs": [
    {
     "data": {
      "text/plain": [
       "(array([[-1.5666989 ],\n",
       "        [-1.21854359],\n",
       "        [-0.87038828],\n",
       "        [-0.52223297],\n",
       "        [-0.17407766],\n",
       "        [ 0.17407766],\n",
       "        [ 0.52223297],\n",
       "        [ 0.87038828],\n",
       "        [ 1.21854359],\n",
       "        [ 1.5666989 ]]),\n",
       " array([[-0.72004253],\n",
       "        [-0.70243757],\n",
       "        [-0.66722767],\n",
       "        [-0.59680786],\n",
       "        [-0.49117815],\n",
       "        [-0.35033854],\n",
       "        [-0.17428902],\n",
       "        [ 0.17781001],\n",
       "        [ 0.88200808],\n",
       "        [ 2.64250325]]))"
      ]
     },
     "execution_count": 3,
     "metadata": {},
     "output_type": "execute_result"
    }
   ],
   "source": [
    "# feature scaling \n",
    "from sklearn.preprocessing import StandardScaler\n",
    "sc_x = StandardScaler()\n",
    "sc_y = StandardScaler()\n",
    "\n",
    "scaled_x = sc_x.fit_transform(independent_x)\n",
    "scaled_y = sc_y.fit_transform(dependent_y)\n",
    "scaled_x, scaled_y"
   ]
  },
  {
   "cell_type": "code",
   "execution_count": 4,
   "id": "d4cd1b27",
   "metadata": {
    "execution": {
     "iopub.execute_input": "2025-09-23T15:21:18.593643Z",
     "iopub.status.busy": "2025-09-23T15:21:18.593195Z",
     "iopub.status.idle": "2025-09-23T15:21:18.805561Z",
     "shell.execute_reply": "2025-09-23T15:21:18.804413Z"
    },
    "papermill": {
     "duration": 0.217697,
     "end_time": "2025-09-23T15:21:18.807514",
     "exception": false,
     "start_time": "2025-09-23T15:21:18.589817",
     "status": "completed"
    },
    "tags": []
   },
   "outputs": [
    {
     "name": "stderr",
     "output_type": "stream",
     "text": [
      "/usr/local/lib/python3.11/dist-packages/sklearn/utils/validation.py:1143: DataConversionWarning: A column-vector y was passed when a 1d array was expected. Please change the shape of y to (n_samples, ), for example using ravel().\n",
      "  y = column_or_1d(y, warn=True)\n"
     ]
    },
    {
     "data": {
      "text/html": [
       "<style>#sk-container-id-1 {color: black;background-color: white;}#sk-container-id-1 pre{padding: 0;}#sk-container-id-1 div.sk-toggleable {background-color: white;}#sk-container-id-1 label.sk-toggleable__label {cursor: pointer;display: block;width: 100%;margin-bottom: 0;padding: 0.3em;box-sizing: border-box;text-align: center;}#sk-container-id-1 label.sk-toggleable__label-arrow:before {content: \"▸\";float: left;margin-right: 0.25em;color: #696969;}#sk-container-id-1 label.sk-toggleable__label-arrow:hover:before {color: black;}#sk-container-id-1 div.sk-estimator:hover label.sk-toggleable__label-arrow:before {color: black;}#sk-container-id-1 div.sk-toggleable__content {max-height: 0;max-width: 0;overflow: hidden;text-align: left;background-color: #f0f8ff;}#sk-container-id-1 div.sk-toggleable__content pre {margin: 0.2em;color: black;border-radius: 0.25em;background-color: #f0f8ff;}#sk-container-id-1 input.sk-toggleable__control:checked~div.sk-toggleable__content {max-height: 200px;max-width: 100%;overflow: auto;}#sk-container-id-1 input.sk-toggleable__control:checked~label.sk-toggleable__label-arrow:before {content: \"▾\";}#sk-container-id-1 div.sk-estimator input.sk-toggleable__control:checked~label.sk-toggleable__label {background-color: #d4ebff;}#sk-container-id-1 div.sk-label input.sk-toggleable__control:checked~label.sk-toggleable__label {background-color: #d4ebff;}#sk-container-id-1 input.sk-hidden--visually {border: 0;clip: rect(1px 1px 1px 1px);clip: rect(1px, 1px, 1px, 1px);height: 1px;margin: -1px;overflow: hidden;padding: 0;position: absolute;width: 1px;}#sk-container-id-1 div.sk-estimator {font-family: monospace;background-color: #f0f8ff;border: 1px dotted black;border-radius: 0.25em;box-sizing: border-box;margin-bottom: 0.5em;}#sk-container-id-1 div.sk-estimator:hover {background-color: #d4ebff;}#sk-container-id-1 div.sk-parallel-item::after {content: \"\";width: 100%;border-bottom: 1px solid gray;flex-grow: 1;}#sk-container-id-1 div.sk-label:hover label.sk-toggleable__label {background-color: #d4ebff;}#sk-container-id-1 div.sk-serial::before {content: \"\";position: absolute;border-left: 1px solid gray;box-sizing: border-box;top: 0;bottom: 0;left: 50%;z-index: 0;}#sk-container-id-1 div.sk-serial {display: flex;flex-direction: column;align-items: center;background-color: white;padding-right: 0.2em;padding-left: 0.2em;position: relative;}#sk-container-id-1 div.sk-item {position: relative;z-index: 1;}#sk-container-id-1 div.sk-parallel {display: flex;align-items: stretch;justify-content: center;background-color: white;position: relative;}#sk-container-id-1 div.sk-item::before, #sk-container-id-1 div.sk-parallel-item::before {content: \"\";position: absolute;border-left: 1px solid gray;box-sizing: border-box;top: 0;bottom: 0;left: 50%;z-index: -1;}#sk-container-id-1 div.sk-parallel-item {display: flex;flex-direction: column;z-index: 1;position: relative;background-color: white;}#sk-container-id-1 div.sk-parallel-item:first-child::after {align-self: flex-end;width: 50%;}#sk-container-id-1 div.sk-parallel-item:last-child::after {align-self: flex-start;width: 50%;}#sk-container-id-1 div.sk-parallel-item:only-child::after {width: 0;}#sk-container-id-1 div.sk-dashed-wrapped {border: 1px dashed gray;margin: 0 0.4em 0.5em 0.4em;box-sizing: border-box;padding-bottom: 0.4em;background-color: white;}#sk-container-id-1 div.sk-label label {font-family: monospace;font-weight: bold;display: inline-block;line-height: 1.2em;}#sk-container-id-1 div.sk-label-container {text-align: center;}#sk-container-id-1 div.sk-container {/* jupyter's `normalize.less` sets `[hidden] { display: none; }` but bootstrap.min.css set `[hidden] { display: none !important; }` so we also need the `!important` here to be able to override the default hidden behavior on the sphinx rendered scikit-learn.org. See: https://github.com/scikit-learn/scikit-learn/issues/21755 */display: inline-block !important;position: relative;}#sk-container-id-1 div.sk-text-repr-fallback {display: none;}</style><div id=\"sk-container-id-1\" class=\"sk-top-container\"><div class=\"sk-text-repr-fallback\"><pre>SVR()</pre><b>In a Jupyter environment, please rerun this cell to show the HTML representation or trust the notebook. <br />On GitHub, the HTML representation is unable to render, please try loading this page with nbviewer.org.</b></div><div class=\"sk-container\" hidden><div class=\"sk-item\"><div class=\"sk-estimator sk-toggleable\"><input class=\"sk-toggleable__control sk-hidden--visually\" id=\"sk-estimator-id-1\" type=\"checkbox\" checked><label for=\"sk-estimator-id-1\" class=\"sk-toggleable__label sk-toggleable__label-arrow\">SVR</label><div class=\"sk-toggleable__content\"><pre>SVR()</pre></div></div></div></div></div>"
      ],
      "text/plain": [
       "SVR()"
      ]
     },
     "execution_count": 4,
     "metadata": {},
     "output_type": "execute_result"
    }
   ],
   "source": [
    "# train \n",
    "from sklearn.svm import SVR\n",
    "regressor = SVR(kernel = 'rbf') # Radial basis function kernel\n",
    "regressor.fit(scaled_x, scaled_y)"
   ]
  },
  {
   "cell_type": "code",
   "execution_count": 5,
   "id": "a763186c",
   "metadata": {
    "execution": {
     "iopub.execute_input": "2025-09-23T15:21:18.814411Z",
     "iopub.status.busy": "2025-09-23T15:21:18.813603Z",
     "iopub.status.idle": "2025-09-23T15:21:18.820650Z",
     "shell.execute_reply": "2025-09-23T15:21:18.819721Z"
    },
    "papermill": {
     "duration": 0.011911,
     "end_time": "2025-09-23T15:21:18.822279",
     "exception": false,
     "start_time": "2025-09-23T15:21:18.810368",
     "status": "completed"
    },
    "tags": []
   },
   "outputs": [
    {
     "data": {
      "text/plain": [
       "array([[170370.0204065]])"
      ]
     },
     "execution_count": 5,
     "metadata": {},
     "output_type": "execute_result"
    }
   ],
   "source": [
    "# exp for 6.5 level vith SVN Radial basis function kernel\n",
    "sc_y.inverse_transform(regressor.predict(sc_x.transform([[6.5]])).reshape(-1,1))"
   ]
  },
  {
   "cell_type": "code",
   "execution_count": 6,
   "id": "69eea42a",
   "metadata": {
    "execution": {
     "iopub.execute_input": "2025-09-23T15:21:18.828772Z",
     "iopub.status.busy": "2025-09-23T15:21:18.828486Z",
     "iopub.status.idle": "2025-09-23T15:21:18.835647Z",
     "shell.execute_reply": "2025-09-23T15:21:18.834834Z"
    },
    "papermill": {
     "duration": 0.012102,
     "end_time": "2025-09-23T15:21:18.837213",
     "exception": false,
     "start_time": "2025-09-23T15:21:18.825111",
     "status": "completed"
    },
    "tags": []
   },
   "outputs": [
    {
     "data": {
      "text/plain": [
       "array([[ 73474.15615697],\n",
       "       [ 70786.94584626],\n",
       "       [ 88213.00902103],\n",
       "       [108254.98574956],\n",
       "       [122574.52250599],\n",
       "       [145503.10688572],\n",
       "       [209410.23132923],\n",
       "       [330606.89204569],\n",
       "       [471671.95587315],\n",
       "       [557821.75899897]])"
      ]
     },
     "execution_count": 6,
     "metadata": {},
     "output_type": "execute_result"
    }
   ],
   "source": [
    "# predict\n",
    "sc_y.inverse_transform(regressor.predict(sc_x.transform(independent_x)).reshape(-1,1))"
   ]
  },
  {
   "cell_type": "code",
   "execution_count": 7,
   "id": "9c09c0ed",
   "metadata": {
    "execution": {
     "iopub.execute_input": "2025-09-23T15:21:18.844112Z",
     "iopub.status.busy": "2025-09-23T15:21:18.843805Z",
     "iopub.status.idle": "2025-09-23T15:21:19.146040Z",
     "shell.execute_reply": "2025-09-23T15:21:19.145157Z"
    },
    "papermill": {
     "duration": 0.307418,
     "end_time": "2025-09-23T15:21:19.147547",
     "exception": false,
     "start_time": "2025-09-23T15:21:18.840129",
     "status": "completed"
    },
    "tags": []
   },
   "outputs": [
    {
     "data": {
      "image/png": "[encoded data removed]",
      "text/plain": [
       "<Figure size 1400x600 with 1 Axes>"
      ]
     },
     "metadata": {},
     "output_type": "display_data"
    }
   ],
   "source": [
    "plt.figure(figsize=(14, 6))\n",
    "plt.scatter(independent_x, dependent_y, color=\"red\", label=\"actual\")\n",
    "plt.plot(independent_x, sc_y.inverse_transform(regressor.predict(sc_x.transform(independent_x)).reshape(-1,1)))\n",
    "plt.legend()\n",
    "plt.tight_layout()\n",
    "plt.show()"
   ]
  }
 ],
 "metadata": {
  "kaggle": {
   "accelerator": "none",
   "dataSources": [
    {
     "datasetId": 7769196,
     "sourceId": 12337420,
     "sourceType": "datasetVersion"
    }
   ],
   "dockerImageVersionId": 31089,
   "isGpuEnabled": false,
   "isInternetEnabled": true,
   "language": "python",
   "sourceType": "notebook"
  },
  "kernelspec": {
   "display_name": "Python 3",
   "language": "python",
   "name": "python3"
  },
  "language_info": {
   "codemirror_mode": {
    "name": "ipython",
    "version": 3
   },
   "file_extension": ".py",
   "mimetype": "text/x-python",
   "name": "python",
   "nbconvert_exporter": "python",
   "pygments_lexer": "ipython3",
   "version": "3.11.13"
  },
  "papermill": {
   "default_parameters": {},
   "duration": 12.525098,
   "end_time": "2025-09-23T15:21:22.537750",
   "environment_variables": {},
   "exception": null,
   "input_path": "__notebook__.ipynb",
   "output_path": "__notebook__.ipynb",
   "parameters": {},
   "start_time": "2025-09-23T15:21:10.012652",
   "version": "2.6.0"
  }
 },
 "nbformat": 4,
 "nbformat_minor": 5
}
