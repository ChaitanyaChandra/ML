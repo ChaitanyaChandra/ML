{
 "cells": [
  {
   "cell_type": "code",
   "execution_count": 1,
   "id": "f7fa4f03",
   "metadata": {
    "_cell_guid": "b1076dfc-b9ad-4769-8c92-a6c4dae69d19",
    "_uuid": "8f2839f25d086af736a60e9eeb907d3b93b6e0e5",
    "execution": {
     "iopub.execute_input": "2025-07-08T12:24:57.558213Z",
     "iopub.status.busy": "2025-07-08T12:24:57.557919Z",
     "iopub.status.idle": "2025-07-08T12:24:59.413768Z",
     "shell.execute_reply": "2025-07-08T12:24:59.412860Z"
    },
    "papermill": {
     "duration": 1.861753,
     "end_time": "2025-07-08T12:24:59.415602",
     "exception": false,
     "start_time": "2025-07-08T12:24:57.553849",
     "status": "completed"
    },
    "tags": []
   },
   "outputs": [],
   "source": [
    "import pandas as pd\n",
    "import numpy as np\n",
    "import matplotlib.pyplot as plt"
   ]
  },
  {
   "cell_type": "code",
   "execution_count": 2,
   "id": "e1c3b568",
   "metadata": {
    "execution": {
     "iopub.execute_input": "2025-07-08T12:24:59.421859Z",
     "iopub.status.busy": "2025-07-08T12:24:59.421431Z",
     "iopub.status.idle": "2025-07-08T12:24:59.468163Z",
     "shell.execute_reply": "2025-07-08T12:24:59.467329Z"
    },
    "papermill": {
     "duration": 0.051532,
     "end_time": "2025-07-08T12:24:59.469869",
     "exception": false,
     "start_time": "2025-07-08T12:24:59.418337",
     "status": "completed"
    },
    "tags": []
   },
   "outputs": [
    {
     "data": {
      "text/html": [
       "<div>\n",
       "<style scoped>\n",
       "    .dataframe tbody tr th:only-of-type {\n",
       "        vertical-align: middle;\n",
       "    }\n",
       "\n",
       "    .dataframe tbody tr th {\n",
       "        vertical-align: top;\n",
       "    }\n",
       "\n",
       "    .dataframe thead th {\n",
       "        text-align: right;\n",
       "    }\n",
       "</style>\n",
       "<table border=\"1\" class=\"dataframe\">\n",
       "  <thead>\n",
       "    <tr style=\"text-align: right;\">\n",
       "      <th></th>\n",
       "      <th>R&amp;D Spend</th>\n",
       "      <th>Administration</th>\n",
       "      <th>Marketing Spend</th>\n",
       "      <th>State</th>\n",
       "      <th>Profit</th>\n",
       "    </tr>\n",
       "  </thead>\n",
       "  <tbody>\n",
       "    <tr>\n",
       "      <th>0</th>\n",
       "      <td>165349.20</td>\n",
       "      <td>136897.80</td>\n",
       "      <td>471784.10</td>\n",
       "      <td>New York</td>\n",
       "      <td>192261.83</td>\n",
       "    </tr>\n",
       "    <tr>\n",
       "      <th>1</th>\n",
       "      <td>162597.70</td>\n",
       "      <td>151377.59</td>\n",
       "      <td>443898.53</td>\n",
       "      <td>California</td>\n",
       "      <td>191792.06</td>\n",
       "    </tr>\n",
       "    <tr>\n",
       "      <th>2</th>\n",
       "      <td>153441.51</td>\n",
       "      <td>101145.55</td>\n",
       "      <td>407934.54</td>\n",
       "      <td>Florida</td>\n",
       "      <td>191050.39</td>\n",
       "    </tr>\n",
       "    <tr>\n",
       "      <th>3</th>\n",
       "      <td>144372.41</td>\n",
       "      <td>118671.85</td>\n",
       "      <td>383199.62</td>\n",
       "      <td>New York</td>\n",
       "      <td>182901.99</td>\n",
       "    </tr>\n",
       "    <tr>\n",
       "      <th>4</th>\n",
       "      <td>142107.34</td>\n",
       "      <td>91391.77</td>\n",
       "      <td>366168.42</td>\n",
       "      <td>Florida</td>\n",
       "      <td>166187.94</td>\n",
       "    </tr>\n",
       "  </tbody>\n",
       "</table>\n",
       "</div>"
      ],
      "text/plain": [
       "   R&D Spend  Administration  Marketing Spend       State     Profit\n",
       "0  165349.20       136897.80        471784.10    New York  192261.83\n",
       "1  162597.70       151377.59        443898.53  California  191792.06\n",
       "2  153441.51       101145.55        407934.54     Florida  191050.39\n",
       "3  144372.41       118671.85        383199.62    New York  182901.99\n",
       "4  142107.34        91391.77        366168.42     Florida  166187.94"
      ]
     },
     "execution_count": 2,
     "metadata": {},
     "output_type": "execute_result"
    }
   ],
   "source": [
    "dataset = pd.read_csv(f\"/kaggle/input/data-csv/50_Startups.csv\")\n",
    "dataset.head()"
   ]
  },
  {
   "cell_type": "code",
   "execution_count": 3,
   "id": "c6707b6d",
   "metadata": {
    "execution": {
     "iopub.execute_input": "2025-07-08T12:24:59.475996Z",
     "iopub.status.busy": "2025-07-08T12:24:59.475664Z",
     "iopub.status.idle": "2025-07-08T12:24:59.486807Z",
     "shell.execute_reply": "2025-07-08T12:24:59.485960Z"
    },
    "papermill": {
     "duration": 0.015742,
     "end_time": "2025-07-08T12:24:59.488183",
     "exception": false,
     "start_time": "2025-07-08T12:24:59.472441",
     "status": "completed"
    },
    "tags": []
   },
   "outputs": [
    {
     "data": {
      "text/plain": [
       "(array([[165349.2, 136897.8, 471784.1, 'New York'],\n",
       "        [162597.7, 151377.59, 443898.53, 'California'],\n",
       "        [153441.51, 101145.55, 407934.54, 'Florida'],\n",
       "        [144372.41, 118671.85, 383199.62, 'New York'],\n",
       "        [142107.34, 91391.77, 366168.42, 'Florida'],\n",
       "        [131876.9, 99814.71, 362861.36, 'New York'],\n",
       "        [134615.46, 147198.87, 127716.82, 'California'],\n",
       "        [130298.13, 145530.06, 323876.68, 'Florida'],\n",
       "        [120542.52, 148718.95, 311613.29, 'New York'],\n",
       "        [123334.88, 108679.17, 304981.62, 'California'],\n",
       "        [101913.08, 110594.11, 229160.95, 'Florida'],\n",
       "        [100671.96, 91790.61, 249744.55, 'California'],\n",
       "        [93863.75, 127320.38, 249839.44, 'Florida'],\n",
       "        [91992.39, 135495.07, 252664.93, 'California'],\n",
       "        [119943.24, 156547.42, 256512.92, 'Florida'],\n",
       "        [114523.61, 122616.84, 261776.23, 'New York'],\n",
       "        [78013.11, 121597.55, 264346.06, 'California'],\n",
       "        [94657.16, 145077.58, 282574.31, 'New York'],\n",
       "        [91749.16, 114175.79, 294919.57, 'Florida'],\n",
       "        [86419.7, 153514.11, 0.0, 'New York'],\n",
       "        [76253.86, 113867.3, 298664.47, 'California'],\n",
       "        [78389.47, 153773.43, 299737.29, 'New York'],\n",
       "        [73994.56, 122782.75, 303319.26, 'Florida'],\n",
       "        [67532.53, 105751.03, 304768.73, 'Florida'],\n",
       "        [77044.01, 99281.34, 140574.81, 'New York'],\n",
       "        [64664.71, 139553.16, 137962.62, 'California'],\n",
       "        [75328.87, 144135.98, 134050.07, 'Florida'],\n",
       "        [72107.6, 127864.55, 353183.81, 'New York'],\n",
       "        [66051.52, 182645.56, 118148.2, 'Florida'],\n",
       "        [65605.48, 153032.06, 107138.38, 'New York'],\n",
       "        [61994.48, 115641.28, 91131.24, 'Florida'],\n",
       "        [61136.38, 152701.92, 88218.23, 'New York'],\n",
       "        [63408.86, 129219.61, 46085.25, 'California'],\n",
       "        [55493.95, 103057.49, 214634.81, 'Florida'],\n",
       "        [46426.07, 157693.92, 210797.67, 'California'],\n",
       "        [46014.02, 85047.44, 205517.64, 'New York'],\n",
       "        [28663.76, 127056.21, 201126.82, 'Florida'],\n",
       "        [44069.95, 51283.14, 197029.42, 'California'],\n",
       "        [20229.59, 65947.93, 185265.1, 'New York'],\n",
       "        [38558.51, 82982.09, 174999.3, 'California'],\n",
       "        [28754.33, 118546.05, 172795.67, 'California'],\n",
       "        [27892.92, 84710.77, 164470.71, 'Florida'],\n",
       "        [23640.93, 96189.63, 148001.11, 'California'],\n",
       "        [15505.73, 127382.3, 35534.17, 'New York'],\n",
       "        [22177.74, 154806.14, 28334.72, 'California'],\n",
       "        [1000.23, 124153.04, 1903.93, 'New York'],\n",
       "        [1315.46, 115816.21, 297114.46, 'Florida'],\n",
       "        [0.0, 135426.92, 0.0, 'California'],\n",
       "        [542.05, 51743.15, 0.0, 'New York'],\n",
       "        [0.0, 116983.8, 45173.06, 'California']], dtype=object),\n",
       " array([192261.83, 191792.06, 191050.39, 182901.99, 166187.94, 156991.12,\n",
       "        156122.51, 155752.6 , 152211.77, 149759.96, 146121.95, 144259.4 ,\n",
       "        141585.52, 134307.35, 132602.65, 129917.04, 126992.93, 125370.37,\n",
       "        124266.9 , 122776.86, 118474.03, 111313.02, 110352.25, 108733.99,\n",
       "        108552.04, 107404.34, 105733.54, 105008.31, 103282.38, 101004.64,\n",
       "         99937.59,  97483.56,  97427.84,  96778.92,  96712.8 ,  96479.51,\n",
       "         90708.19,  89949.14,  81229.06,  81005.76,  78239.91,  77798.83,\n",
       "         71498.49,  69758.98,  65200.33,  64926.08,  49490.75,  42559.73,\n",
       "         35673.41,  14681.4 ]))"
      ]
     },
     "execution_count": 3,
     "metadata": {},
     "output_type": "execute_result"
    }
   ],
   "source": [
    "x = dataset.iloc[:, :-1].values\n",
    "y = dataset.iloc[:, -1].values\n",
    "x,y"
   ]
  },
  {
   "cell_type": "code",
   "execution_count": 4,
   "id": "4d9e7a02",
   "metadata": {
    "execution": {
     "iopub.execute_input": "2025-07-08T12:24:59.494653Z",
     "iopub.status.busy": "2025-07-08T12:24:59.494345Z",
     "iopub.status.idle": "2025-07-08T12:25:01.025442Z",
     "shell.execute_reply": "2025-07-08T12:25:01.024478Z"
    },
    "papermill": {
     "duration": 1.53636,
     "end_time": "2025-07-08T12:25:01.027296",
     "exception": false,
     "start_time": "2025-07-08T12:24:59.490936",
     "status": "completed"
    },
    "tags": []
   },
   "outputs": [],
   "source": [
    "from sklearn.preprocessing import OneHotEncoder\n",
    "from sklearn.compose import ColumnTransformer\n",
    "ct = ColumnTransformer(\n",
    "    transformers=[(\"encoder\", OneHotEncoder(), [3])],\n",
    "    remainder=\"passthrough\"\n",
    ")\n",
    "x = np.array(ct.fit_transform(x))"
   ]
  },
  {
   "cell_type": "code",
   "execution_count": 5,
   "id": "91c0c3f2",
   "metadata": {
    "execution": {
     "iopub.execute_input": "2025-07-08T12:25:01.034202Z",
     "iopub.status.busy": "2025-07-08T12:25:01.033784Z",
     "iopub.status.idle": "2025-07-08T12:25:01.147613Z",
     "shell.execute_reply": "2025-07-08T12:25:01.146786Z"
    },
    "papermill": {
     "duration": 0.118966,
     "end_time": "2025-07-08T12:25:01.149077",
     "exception": false,
     "start_time": "2025-07-08T12:25:01.030111",
     "status": "completed"
    },
    "tags": []
   },
   "outputs": [
    {
     "data": {
      "text/plain": [
       "(array([[0.0, 1.0, 0.0, 55493.95, 103057.49, 214634.81],\n",
       "        [0.0, 0.0, 1.0, 46014.02, 85047.44, 205517.64],\n",
       "        [0.0, 1.0, 0.0, 75328.87, 144135.98, 134050.07],\n",
       "        [1.0, 0.0, 0.0, 46426.07, 157693.92, 210797.67],\n",
       "        [0.0, 1.0, 0.0, 91749.16, 114175.79, 294919.57],\n",
       "        [0.0, 1.0, 0.0, 130298.13, 145530.06, 323876.68],\n",
       "        [0.0, 1.0, 0.0, 119943.24, 156547.42, 256512.92],\n",
       "        [0.0, 0.0, 1.0, 1000.23, 124153.04, 1903.93],\n",
       "        [0.0, 0.0, 1.0, 542.05, 51743.15, 0.0],\n",
       "        [0.0, 0.0, 1.0, 65605.48, 153032.06, 107138.38],\n",
       "        [0.0, 0.0, 1.0, 114523.61, 122616.84, 261776.23],\n",
       "        [0.0, 1.0, 0.0, 61994.48, 115641.28, 91131.24],\n",
       "        [1.0, 0.0, 0.0, 63408.86, 129219.61, 46085.25],\n",
       "        [1.0, 0.0, 0.0, 78013.11, 121597.55, 264346.06],\n",
       "        [1.0, 0.0, 0.0, 23640.93, 96189.63, 148001.11],\n",
       "        [1.0, 0.0, 0.0, 76253.86, 113867.3, 298664.47],\n",
       "        [0.0, 0.0, 1.0, 15505.73, 127382.3, 35534.17],\n",
       "        [0.0, 0.0, 1.0, 120542.52, 148718.95, 311613.29],\n",
       "        [1.0, 0.0, 0.0, 91992.39, 135495.07, 252664.93],\n",
       "        [1.0, 0.0, 0.0, 64664.71, 139553.16, 137962.62],\n",
       "        [0.0, 0.0, 1.0, 131876.9, 99814.71, 362861.36],\n",
       "        [0.0, 0.0, 1.0, 94657.16, 145077.58, 282574.31],\n",
       "        [1.0, 0.0, 0.0, 28754.33, 118546.05, 172795.67],\n",
       "        [1.0, 0.0, 0.0, 0.0, 116983.8, 45173.06],\n",
       "        [1.0, 0.0, 0.0, 162597.7, 151377.59, 443898.53],\n",
       "        [0.0, 1.0, 0.0, 93863.75, 127320.38, 249839.44],\n",
       "        [1.0, 0.0, 0.0, 44069.95, 51283.14, 197029.42],\n",
       "        [0.0, 0.0, 1.0, 77044.01, 99281.34, 140574.81],\n",
       "        [1.0, 0.0, 0.0, 134615.46, 147198.87, 127716.82],\n",
       "        [0.0, 1.0, 0.0, 67532.53, 105751.03, 304768.73],\n",
       "        [0.0, 1.0, 0.0, 28663.76, 127056.21, 201126.82],\n",
       "        [0.0, 0.0, 1.0, 78389.47, 153773.43, 299737.29],\n",
       "        [0.0, 0.0, 1.0, 86419.7, 153514.11, 0.0],\n",
       "        [1.0, 0.0, 0.0, 123334.88, 108679.17, 304981.62],\n",
       "        [1.0, 0.0, 0.0, 38558.51, 82982.09, 174999.3],\n",
       "        [0.0, 1.0, 0.0, 1315.46, 115816.21, 297114.46],\n",
       "        [0.0, 0.0, 1.0, 144372.41, 118671.85, 383199.62],\n",
       "        [0.0, 0.0, 1.0, 165349.2, 136897.8, 471784.1],\n",
       "        [1.0, 0.0, 0.0, 0.0, 135426.92, 0.0],\n",
       "        [1.0, 0.0, 0.0, 22177.74, 154806.14, 28334.72]], dtype=object),\n",
       " array([[0.0, 1.0, 0.0, 66051.52, 182645.56, 118148.2],\n",
       "        [1.0, 0.0, 0.0, 100671.96, 91790.61, 249744.55],\n",
       "        [0.0, 1.0, 0.0, 101913.08, 110594.11, 229160.95],\n",
       "        [0.0, 1.0, 0.0, 27892.92, 84710.77, 164470.71],\n",
       "        [0.0, 1.0, 0.0, 153441.51, 101145.55, 407934.54],\n",
       "        [0.0, 0.0, 1.0, 72107.6, 127864.55, 353183.81],\n",
       "        [0.0, 0.0, 1.0, 20229.59, 65947.93, 185265.1],\n",
       "        [0.0, 0.0, 1.0, 61136.38, 152701.92, 88218.23],\n",
       "        [0.0, 1.0, 0.0, 73994.56, 122782.75, 303319.26],\n",
       "        [0.0, 1.0, 0.0, 142107.34, 91391.77, 366168.42]], dtype=object),\n",
       " array([ 96778.92,  96479.51, 105733.54,  96712.8 , 124266.9 , 155752.6 ,\n",
       "        132602.65,  64926.08,  35673.41, 101004.64, 129917.04,  99937.59,\n",
       "         97427.84, 126992.93,  71498.49, 118474.03,  69758.98, 152211.77,\n",
       "        134307.35, 107404.34, 156991.12, 125370.37,  78239.91,  14681.4 ,\n",
       "        191792.06, 141585.52,  89949.14, 108552.04, 156122.51, 108733.99,\n",
       "         90708.19, 111313.02, 122776.86, 149759.96,  81005.76,  49490.75,\n",
       "        182901.99, 192261.83,  42559.73,  65200.33]),\n",
       " array([103282.38, 144259.4 , 146121.95,  77798.83, 191050.39, 105008.31,\n",
       "         81229.06,  97483.56, 110352.25, 166187.94]))"
      ]
     },
     "execution_count": 5,
     "metadata": {},
     "output_type": "execute_result"
    }
   ],
   "source": [
    "# split dataset into  train and test data\n",
    "from sklearn.model_selection import train_test_split\n",
    "x_train, x_test, y_train, y_test = train_test_split(x, y, random_state=0, test_size=0.2)\n",
    "x_train, x_test, y_train, y_test"
   ]
  },
  {
   "cell_type": "code",
   "execution_count": 6,
   "id": "e7e21d92",
   "metadata": {
    "execution": {
     "iopub.execute_input": "2025-07-08T12:25:01.156422Z",
     "iopub.status.busy": "2025-07-08T12:25:01.155891Z",
     "iopub.status.idle": "2025-07-08T12:25:01.288571Z",
     "shell.execute_reply": "2025-07-08T12:25:01.287587Z"
    },
    "papermill": {
     "duration": 0.138196,
     "end_time": "2025-07-08T12:25:01.290156",
     "exception": false,
     "start_time": "2025-07-08T12:25:01.151960",
     "status": "completed"
    },
    "tags": []
   },
   "outputs": [
    {
     "data": {
      "text/html": [
       "<style>#sk-container-id-1 {color: black;background-color: white;}#sk-container-id-1 pre{padding: 0;}#sk-container-id-1 div.sk-toggleable {background-color: white;}#sk-container-id-1 label.sk-toggleable__label {cursor: pointer;display: block;width: 100%;margin-bottom: 0;padding: 0.3em;box-sizing: border-box;text-align: center;}#sk-container-id-1 label.sk-toggleable__label-arrow:before {content: \"▸\";float: left;margin-right: 0.25em;color: #696969;}#sk-container-id-1 label.sk-toggleable__label-arrow:hover:before {color: black;}#sk-container-id-1 div.sk-estimator:hover label.sk-toggleable__label-arrow:before {color: black;}#sk-container-id-1 div.sk-toggleable__content {max-height: 0;max-width: 0;overflow: hidden;text-align: left;background-color: #f0f8ff;}#sk-container-id-1 div.sk-toggleable__content pre {margin: 0.2em;color: black;border-radius: 0.25em;background-color: #f0f8ff;}#sk-container-id-1 input.sk-toggleable__control:checked~div.sk-toggleable__content {max-height: 200px;max-width: 100%;overflow: auto;}#sk-container-id-1 input.sk-toggleable__control:checked~label.sk-toggleable__label-arrow:before {content: \"▾\";}#sk-container-id-1 div.sk-estimator input.sk-toggleable__control:checked~label.sk-toggleable__label {background-color: #d4ebff;}#sk-container-id-1 div.sk-label input.sk-toggleable__control:checked~label.sk-toggleable__label {background-color: #d4ebff;}#sk-container-id-1 input.sk-hidden--visually {border: 0;clip: rect(1px 1px 1px 1px);clip: rect(1px, 1px, 1px, 1px);height: 1px;margin: -1px;overflow: hidden;padding: 0;position: absolute;width: 1px;}#sk-container-id-1 div.sk-estimator {font-family: monospace;background-color: #f0f8ff;border: 1px dotted black;border-radius: 0.25em;box-sizing: border-box;margin-bottom: 0.5em;}#sk-container-id-1 div.sk-estimator:hover {background-color: #d4ebff;}#sk-container-id-1 div.sk-parallel-item::after {content: \"\";width: 100%;border-bottom: 1px solid gray;flex-grow: 1;}#sk-container-id-1 div.sk-label:hover label.sk-toggleable__label {background-color: #d4ebff;}#sk-container-id-1 div.sk-serial::before {content: \"\";position: absolute;border-left: 1px solid gray;box-sizing: border-box;top: 0;bottom: 0;left: 50%;z-index: 0;}#sk-container-id-1 div.sk-serial {display: flex;flex-direction: column;align-items: center;background-color: white;padding-right: 0.2em;padding-left: 0.2em;position: relative;}#sk-container-id-1 div.sk-item {position: relative;z-index: 1;}#sk-container-id-1 div.sk-parallel {display: flex;align-items: stretch;justify-content: center;background-color: white;position: relative;}#sk-container-id-1 div.sk-item::before, #sk-container-id-1 div.sk-parallel-item::before {content: \"\";position: absolute;border-left: 1px solid gray;box-sizing: border-box;top: 0;bottom: 0;left: 50%;z-index: -1;}#sk-container-id-1 div.sk-parallel-item {display: flex;flex-direction: column;z-index: 1;position: relative;background-color: white;}#sk-container-id-1 div.sk-parallel-item:first-child::after {align-self: flex-end;width: 50%;}#sk-container-id-1 div.sk-parallel-item:last-child::after {align-self: flex-start;width: 50%;}#sk-container-id-1 div.sk-parallel-item:only-child::after {width: 0;}#sk-container-id-1 div.sk-dashed-wrapped {border: 1px dashed gray;margin: 0 0.4em 0.5em 0.4em;box-sizing: border-box;padding-bottom: 0.4em;background-color: white;}#sk-container-id-1 div.sk-label label {font-family: monospace;font-weight: bold;display: inline-block;line-height: 1.2em;}#sk-container-id-1 div.sk-label-container {text-align: center;}#sk-container-id-1 div.sk-container {/* jupyter's `normalize.less` sets `[hidden] { display: none; }` but bootstrap.min.css set `[hidden] { display: none !important; }` so we also need the `!important` here to be able to override the default hidden behavior on the sphinx rendered scikit-learn.org. See: https://github.com/scikit-learn/scikit-learn/issues/21755 */display: inline-block !important;position: relative;}#sk-container-id-1 div.sk-text-repr-fallback {display: none;}</style><div id=\"sk-container-id-1\" class=\"sk-top-container\"><div class=\"sk-text-repr-fallback\"><pre>LinearRegression()</pre><b>In a Jupyter environment, please rerun this cell to show the HTML representation or trust the notebook. <br />On GitHub, the HTML representation is unable to render, please try loading this page with nbviewer.org.</b></div><div class=\"sk-container\" hidden><div class=\"sk-item\"><div class=\"sk-estimator sk-toggleable\"><input class=\"sk-toggleable__control sk-hidden--visually\" id=\"sk-estimator-id-1\" type=\"checkbox\" checked><label for=\"sk-estimator-id-1\" class=\"sk-toggleable__label sk-toggleable__label-arrow\">LinearRegression</label><div class=\"sk-toggleable__content\"><pre>LinearRegression()</pre></div></div></div></div></div>"
      ],
      "text/plain": [
       "LinearRegression()"
      ]
     },
     "execution_count": 6,
     "metadata": {},
     "output_type": "execute_result"
    }
   ],
   "source": [
    "# train the model\n",
    "from sklearn.linear_model import LinearRegression\n",
    "regressor = LinearRegression()\n",
    "regressor.fit(x_train, y_train)"
   ]
  },
  {
   "cell_type": "code",
   "execution_count": 7,
   "id": "086a6fd9",
   "metadata": {
    "execution": {
     "iopub.execute_input": "2025-07-08T12:25:01.297175Z",
     "iopub.status.busy": "2025-07-08T12:25:01.296879Z",
     "iopub.status.idle": "2025-07-08T12:25:01.304699Z",
     "shell.execute_reply": "2025-07-08T12:25:01.303844Z"
    },
    "papermill": {
     "duration": 0.012964,
     "end_time": "2025-07-08T12:25:01.306150",
     "exception": false,
     "start_time": "2025-07-08T12:25:01.293186",
     "status": "completed"
    },
    "tags": []
   },
   "outputs": [
    {
     "data": {
      "text/plain": [
       "array([103015.2 , 132582.28, 132447.74,  71976.1 , 178537.48, 116161.24,\n",
       "        67851.69,  98791.73, 113969.44, 167921.07])"
      ]
     },
     "execution_count": 7,
     "metadata": {},
     "output_type": "execute_result"
    }
   ],
   "source": [
    "y_predict = regressor.predict(x_test)\n",
    "np.set_printoptions(precision=2)\n",
    "y_predict"
   ]
  },
  {
   "cell_type": "code",
   "execution_count": 8,
   "id": "69afafaf",
   "metadata": {
    "execution": {
     "iopub.execute_input": "2025-07-08T12:25:01.313735Z",
     "iopub.status.busy": "2025-07-08T12:25:01.313434Z",
     "iopub.status.idle": "2025-07-08T12:25:01.319146Z",
     "shell.execute_reply": "2025-07-08T12:25:01.318180Z"
    },
    "papermill": {
     "duration": 0.011201,
     "end_time": "2025-07-08T12:25:01.320480",
     "exception": false,
     "start_time": "2025-07-08T12:25:01.309279",
     "status": "completed"
    },
    "tags": []
   },
   "outputs": [
    {
     "name": "stdout",
     "output_type": "stream",
     "text": [
      "[[103015.2  103282.38]\n",
      " [132582.28 144259.4 ]\n",
      " [132447.74 146121.95]\n",
      " [ 71976.1   77798.83]\n",
      " [178537.48 191050.39]\n",
      " [116161.24 105008.31]\n",
      " [ 67851.69  81229.06]\n",
      " [ 98791.73  97483.56]\n",
      " [113969.44 110352.25]\n",
      " [167921.07 166187.94]]\n"
     ]
    }
   ],
   "source": [
    "predicted_and_real_profit = np.concatenate((y_predict.reshape(len(y_predict), 1), y_test.reshape(len(y_test), 1)), axis=1)\n",
    "print(predicted_and_real_profit)"
   ]
  },
  {
   "cell_type": "code",
   "execution_count": null,
   "id": "9e5a2091",
   "metadata": {
    "papermill": {
     "duration": 0.002592,
     "end_time": "2025-07-08T12:25:01.326155",
     "exception": false,
     "start_time": "2025-07-08T12:25:01.323563",
     "status": "completed"
    },
    "tags": []
   },
   "outputs": [],
   "source": []
  }
 ],
 "metadata": {
  "kaggle": {
   "accelerator": "none",
   "dataSources": [
    {
     "datasetId": 7769196,
     "sourceId": 12337420,
     "sourceType": "datasetVersion"
    }
   ],
   "dockerImageVersionId": 31089,
   "isGpuEnabled": false,
   "isInternetEnabled": true,
   "language": "python",
   "sourceType": "notebook"
  },
  "kernelspec": {
   "display_name": "Python 3",
   "language": "python",
   "name": "python3"
  },
  "language_info": {
   "codemirror_mode": {
    "name": "ipython",
    "version": 3
   },
   "file_extension": ".py",
   "mimetype": "text/x-python",
   "name": "python",
   "nbconvert_exporter": "python",
   "pygments_lexer": "ipython3",
   "version": "3.11.13"
  },
  "papermill": {
   "default_parameters": {},
   "duration": 9.046833,
   "end_time": "2025-07-08T12:25:01.948515",
   "environment_variables": {},
   "exception": null,
   "input_path": "__notebook__.ipynb",
   "output_path": "__notebook__.ipynb",
   "parameters": {},
   "start_time": "2025-07-08T12:24:52.901682",
   "version": "2.6.0"
  }
 },
 "nbformat": 4,
 "nbformat_minor": 5
}
