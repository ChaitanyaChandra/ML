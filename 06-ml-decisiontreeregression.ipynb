{
 "cells": [
  {
   "cell_type": "markdown",
   "id": "484144ec",
   "metadata": {
    "_cell_guid": "b1076dfc-b9ad-4769-8c92-a6c4dae69d19",
    "_uuid": "8f2839f25d086af736a60e9eeb907d3b93b6e0e5",
    "papermill": {
     "duration": 0.002238,
     "end_time": "2025-09-24T08:42:33.304260",
     "exception": false,
     "start_time": "2025-09-24T08:42:33.302022",
     "status": "completed"
    },
    "tags": []
   },
   "source": [
    "## Decision Tree Regression\n",
    "\n",
    "* A **Decision Tree Regressor** predicts the target by **splitting the data into regions (intervals)** based on decision rules.\n",
    "* It works by creating a **tree-like structure** where each split reduces the variance of the target variable.\n",
    "\n",
    "### Formula (Conceptual):\n",
    "\n",
    "Unlike regression equations (like Linear or Polynomial),\n",
    "**Decision Trees do not produce a continuous formula.**\n",
    "Instead, they follow a **piecewise constant function**:\n",
    "\n",
    "$\n",
    "\\hat{y}(x) = \\frac{1}{N\\_j} \\sum\\_{i \\in R\\_j} y\\_i, \\quad x \\in R\\_j\n",
    "$\n",
    "\n",
    "Where:\n",
    "\n",
    "* **$R\\_j$** → A region (leaf node) of the tree\n",
    "* **$N\\_j$** → Number of training samples in region $R\\_j$\n",
    "* **$y\\_i$** → Actual values of samples in $R\\_j$\n",
    "\n",
    "So, the prediction is the **average of target values** within the region where $x$ falls.\n",
    "\n",
    "\n",
    "### Explanation:\n",
    "\n",
    "* **Splits input space** into intervals (like `Level < 5`, `Level ≥ 5`).\n",
    "* Each interval (leaf node) has a **constant prediction** = mean of training samples in that region.\n",
    "* Unlike Linear/Polynomial/SVR, Decision Trees create a **stepwise prediction curve** (jumps at split points).\n",
    "\n",
    "\n",
    "### What it means:\n",
    "\n",
    "* Instead of fitting a **line (Linear Regression)** or **smooth curve (SVR/Polynomial Regression)**,\n",
    "  Decision Trees create a **staircase-shaped function**.\n",
    "* Good at capturing **non-linear relationships** but may **overfit** if tree depth is too large.\n",
    "\n",
    "\n",
    "### Example: Position vs Salary (Non-linear Growth)\n",
    "\n",
    "Suppose Salary jumps at certain career levels instead of increasing smoothly.\n",
    "Decision Trees capture these jumps as **flat plateaus**.\n",
    "\n",
    "| Level (x) | Actual Salary (Y) | Linear Predicted | Polynomial Predicted | Decision Tree Predicted |\n",
    "| --------- | ----------------- | ---------------- | -------------------- | ----------------------- |\n",
    "| 1         | 45k               | 40k              | 44k                  | 45k                     |\n",
    "| 3         | 60k               | 55k              | 61k                  | 60k                     |\n",
    "| 6         | 150k              | 100k             | 140k                 | 150k                    |\n",
    "| 10        | 1M                | 300k             | 950k                 | 1M                      |\n",
    "\n",
    "Notice how Decision Tree Regression **matches exact training points** but produces flat predictions between them.\n",
    "\n",
    "---\n",
    "\n",
    "### Solve:\n",
    "\n",
    "* You are given a [Position\\_Salaries.csv dataset](https://www.kaggle.com/datasets/chaitanyachandra/data-csv?select=Position_Salaries.csv) containing:\n",
    "\n",
    "  * **Position** (string, e.g., \"Business Analyst\", \"CEO\")\n",
    "  * **Level** (numeric, 1–10)\n",
    "  * **Salary** (numeric, target variable)\n",
    "\n",
    "* Build a **Decision Tree Regression model** to predict Salary from Level.\n",
    "\n",
    "* Tasks:\n",
    "\n",
    "  * Load and explore the dataset.\n",
    "  * Select `Level` as the independent variable and `Salary` as the dependent variable.\n",
    "  * Train a **Decision Tree Regressor** (`DecisionTreeRegressor` from sklearn).\n",
    "  * Plot predictions vs actual salaries."
   ]
  },
  {
   "cell_type": "code",
   "execution_count": 1,
   "id": "b11a7efe",
   "metadata": {
    "execution": {
     "iopub.execute_input": "2025-09-24T08:42:33.309790Z",
     "iopub.status.busy": "2025-09-24T08:42:33.308910Z",
     "iopub.status.idle": "2025-09-24T08:42:35.126395Z",
     "shell.execute_reply": "2025-09-24T08:42:35.125451Z"
    },
    "papermill": {
     "duration": 1.822166,
     "end_time": "2025-09-24T08:42:35.128286",
     "exception": false,
     "start_time": "2025-09-24T08:42:33.306120",
     "status": "completed"
    },
    "tags": []
   },
   "outputs": [],
   "source": [
    "# import packages\n",
    "import numpy as np\n",
    "import pandas as pd\n",
    "import matplotlib.pyplot as plt"
   ]
  },
  {
   "cell_type": "code",
   "execution_count": 2,
   "id": "532ae12b",
   "metadata": {
    "execution": {
     "iopub.execute_input": "2025-09-24T08:42:35.133196Z",
     "iopub.status.busy": "2025-09-24T08:42:35.132806Z",
     "iopub.status.idle": "2025-09-24T08:42:35.158363Z",
     "shell.execute_reply": "2025-09-24T08:42:35.157538Z"
    },
    "papermill": {
     "duration": 0.02938,
     "end_time": "2025-09-24T08:42:35.159690",
     "exception": false,
     "start_time": "2025-09-24T08:42:35.130310",
     "status": "completed"
    },
    "tags": []
   },
   "outputs": [
    {
     "data": {
      "text/plain": [
       "(array([[ 1],\n",
       "        [ 2],\n",
       "        [ 3],\n",
       "        [ 4],\n",
       "        [ 5],\n",
       "        [ 6],\n",
       "        [ 7],\n",
       "        [ 8],\n",
       "        [ 9],\n",
       "        [10]]),\n",
       " array([[  45000],\n",
       "        [  50000],\n",
       "        [  60000],\n",
       "        [  80000],\n",
       "        [ 110000],\n",
       "        [ 150000],\n",
       "        [ 200000],\n",
       "        [ 300000],\n",
       "        [ 500000],\n",
       "        [1000000]]))"
      ]
     },
     "execution_count": 2,
     "metadata": {},
     "output_type": "execute_result"
    }
   ],
   "source": [
    "# import data-set\n",
    "dataset = pd.read_csv(\"/kaggle/input/data-csv/Position_Salaries.csv\")\n",
    "independent_x = dataset.iloc[:, 1:-1].values\n",
    "dependent_y = dataset.iloc[:, -1].values \n",
    "dependent_y = dependent_y.reshape(len(dependent_y), 1)\n",
    "independent_x, dependent_y"
   ]
  },
  {
   "cell_type": "code",
   "execution_count": 3,
   "id": "2190e88c",
   "metadata": {
    "execution": {
     "iopub.execute_input": "2025-09-24T08:42:35.164435Z",
     "iopub.status.busy": "2025-09-24T08:42:35.164025Z",
     "iopub.status.idle": "2025-09-24T08:42:37.094463Z",
     "shell.execute_reply": "2025-09-24T08:42:37.093698Z"
    },
    "papermill": {
     "duration": 1.934154,
     "end_time": "2025-09-24T08:42:37.095854",
     "exception": false,
     "start_time": "2025-09-24T08:42:35.161700",
     "status": "completed"
    },
    "tags": []
   },
   "outputs": [
    {
     "data": {
      "text/html": [
       "<style>#sk-container-id-1 {color: black;background-color: white;}#sk-container-id-1 pre{padding: 0;}#sk-container-id-1 div.sk-toggleable {background-color: white;}#sk-container-id-1 label.sk-toggleable__label {cursor: pointer;display: block;width: 100%;margin-bottom: 0;padding: 0.3em;box-sizing: border-box;text-align: center;}#sk-container-id-1 label.sk-toggleable__label-arrow:before {content: \"▸\";float: left;margin-right: 0.25em;color: #696969;}#sk-container-id-1 label.sk-toggleable__label-arrow:hover:before {color: black;}#sk-container-id-1 div.sk-estimator:hover label.sk-toggleable__label-arrow:before {color: black;}#sk-container-id-1 div.sk-toggleable__content {max-height: 0;max-width: 0;overflow: hidden;text-align: left;background-color: #f0f8ff;}#sk-container-id-1 div.sk-toggleable__content pre {margin: 0.2em;color: black;border-radius: 0.25em;background-color: #f0f8ff;}#sk-container-id-1 input.sk-toggleable__control:checked~div.sk-toggleable__content {max-height: 200px;max-width: 100%;overflow: auto;}#sk-container-id-1 input.sk-toggleable__control:checked~label.sk-toggleable__label-arrow:before {content: \"▾\";}#sk-container-id-1 div.sk-estimator input.sk-toggleable__control:checked~label.sk-toggleable__label {background-color: #d4ebff;}#sk-container-id-1 div.sk-label input.sk-toggleable__control:checked~label.sk-toggleable__label {background-color: #d4ebff;}#sk-container-id-1 input.sk-hidden--visually {border: 0;clip: rect(1px 1px 1px 1px);clip: rect(1px, 1px, 1px, 1px);height: 1px;margin: -1px;overflow: hidden;padding: 0;position: absolute;width: 1px;}#sk-container-id-1 div.sk-estimator {font-family: monospace;background-color: #f0f8ff;border: 1px dotted black;border-radius: 0.25em;box-sizing: border-box;margin-bottom: 0.5em;}#sk-container-id-1 div.sk-estimator:hover {background-color: #d4ebff;}#sk-container-id-1 div.sk-parallel-item::after {content: \"\";width: 100%;border-bottom: 1px solid gray;flex-grow: 1;}#sk-container-id-1 div.sk-label:hover label.sk-toggleable__label {background-color: #d4ebff;}#sk-container-id-1 div.sk-serial::before {content: \"\";position: absolute;border-left: 1px solid gray;box-sizing: border-box;top: 0;bottom: 0;left: 50%;z-index: 0;}#sk-container-id-1 div.sk-serial {display: flex;flex-direction: column;align-items: center;background-color: white;padding-right: 0.2em;padding-left: 0.2em;position: relative;}#sk-container-id-1 div.sk-item {position: relative;z-index: 1;}#sk-container-id-1 div.sk-parallel {display: flex;align-items: stretch;justify-content: center;background-color: white;position: relative;}#sk-container-id-1 div.sk-item::before, #sk-container-id-1 div.sk-parallel-item::before {content: \"\";position: absolute;border-left: 1px solid gray;box-sizing: border-box;top: 0;bottom: 0;left: 50%;z-index: -1;}#sk-container-id-1 div.sk-parallel-item {display: flex;flex-direction: column;z-index: 1;position: relative;background-color: white;}#sk-container-id-1 div.sk-parallel-item:first-child::after {align-self: flex-end;width: 50%;}#sk-container-id-1 div.sk-parallel-item:last-child::after {align-self: flex-start;width: 50%;}#sk-container-id-1 div.sk-parallel-item:only-child::after {width: 0;}#sk-container-id-1 div.sk-dashed-wrapped {border: 1px dashed gray;margin: 0 0.4em 0.5em 0.4em;box-sizing: border-box;padding-bottom: 0.4em;background-color: white;}#sk-container-id-1 div.sk-label label {font-family: monospace;font-weight: bold;display: inline-block;line-height: 1.2em;}#sk-container-id-1 div.sk-label-container {text-align: center;}#sk-container-id-1 div.sk-container {/* jupyter's `normalize.less` sets `[hidden] { display: none; }` but bootstrap.min.css set `[hidden] { display: none !important; }` so we also need the `!important` here to be able to override the default hidden behavior on the sphinx rendered scikit-learn.org. See: https://github.com/scikit-learn/scikit-learn/issues/21755 */display: inline-block !important;position: relative;}#sk-container-id-1 div.sk-text-repr-fallback {display: none;}</style><div id=\"sk-container-id-1\" class=\"sk-top-container\"><div class=\"sk-text-repr-fallback\"><pre>DecisionTreeRegressor()</pre><b>In a Jupyter environment, please rerun this cell to show the HTML representation or trust the notebook. <br />On GitHub, the HTML representation is unable to render, please try loading this page with nbviewer.org.</b></div><div class=\"sk-container\" hidden><div class=\"sk-item\"><div class=\"sk-estimator sk-toggleable\"><input class=\"sk-toggleable__control sk-hidden--visually\" id=\"sk-estimator-id-1\" type=\"checkbox\" checked><label for=\"sk-estimator-id-1\" class=\"sk-toggleable__label sk-toggleable__label-arrow\">DecisionTreeRegressor</label><div class=\"sk-toggleable__content\"><pre>DecisionTreeRegressor()</pre></div></div></div></div></div>"
      ],
      "text/plain": [
       "DecisionTreeRegressor()"
      ]
     },
     "execution_count": 3,
     "metadata": {},
     "output_type": "execute_result"
    }
   ],
   "source": [
    "# train \n",
    "from sklearn.tree import  DecisionTreeRegressor\n",
    "regressor = DecisionTreeRegressor()\n",
    "regressor.fit(independent_x, dependent_y)"
   ]
  },
  {
   "cell_type": "code",
   "execution_count": 4,
   "id": "6910025d",
   "metadata": {
    "execution": {
     "iopub.execute_input": "2025-09-24T08:42:37.101169Z",
     "iopub.status.busy": "2025-09-24T08:42:37.100778Z",
     "iopub.status.idle": "2025-09-24T08:42:37.106153Z",
     "shell.execute_reply": "2025-09-24T08:42:37.105460Z"
    },
    "papermill": {
     "duration": 0.009287,
     "end_time": "2025-09-24T08:42:37.107339",
     "exception": false,
     "start_time": "2025-09-24T08:42:37.098052",
     "status": "completed"
    },
    "tags": []
   },
   "outputs": [
    {
     "data": {
      "text/plain": [
       "array([150000.])"
      ]
     },
     "execution_count": 4,
     "metadata": {},
     "output_type": "execute_result"
    }
   ],
   "source": [
    "# predict\n",
    "regressor.predict([[6.5]])"
   ]
  },
  {
   "cell_type": "code",
   "execution_count": 5,
   "id": "334a7145",
   "metadata": {
    "execution": {
     "iopub.execute_input": "2025-09-24T08:42:37.112290Z",
     "iopub.status.busy": "2025-09-24T08:42:37.112065Z",
     "iopub.status.idle": "2025-09-24T08:42:37.460439Z",
     "shell.execute_reply": "2025-09-24T08:42:37.459361Z"
    },
    "papermill": {
     "duration": 0.352457,
     "end_time": "2025-09-24T08:42:37.461893",
     "exception": false,
     "start_time": "2025-09-24T08:42:37.109436",
     "status": "completed"
    },
    "tags": []
   },
   "outputs": [
    {
     "data": {
      "image/png": "[encoded data removed]",
      "text/plain": [
       "<Figure size 1400x600 with 1 Axes>"
      ]
     },
     "metadata": {},
     "output_type": "display_data"
    }
   ],
   "source": [
    "# plot\n",
    "plt.figure(figsize=(14, 6))\n",
    "plt.scatter(independent_x, dependent_y, color=\"red\", label=\"actual\")\n",
    "plt.plot(independent_x, regressor.predict(independent_x), label=\"predicted\")\n",
    "plt.legend()\n",
    "plt.tight_layout()\n",
    "plt.show()"
   ]
  }
 ],
 "metadata": {
  "kaggle": {
   "accelerator": "none",
   "dataSources": [
    {
     "datasetId": 7769196,
     "sourceId": 12337420,
     "sourceType": "datasetVersion"
    }
   ],
   "dockerImageVersionId": 31089,
   "isGpuEnabled": false,
   "isInternetEnabled": true,
   "language": "python",
   "sourceType": "notebook"
  },
  "kernelspec": {
   "display_name": "Python 3",
   "language": "python",
   "name": "python3"
  },
  "language_info": {
   "codemirror_mode": {
    "name": "ipython",
    "version": 3
   },
   "file_extension": ".py",
   "mimetype": "text/x-python",
   "name": "python",
   "nbconvert_exporter": "python",
   "pygments_lexer": "ipython3",
   "version": "3.11.13"
  },
  "papermill": {
   "default_parameters": {},
   "duration": 10.109297,
   "end_time": "2025-09-24T08:42:38.084602",
   "environment_variables": {},
   "exception": null,
   "input_path": "__notebook__.ipynb",
   "output_path": "__notebook__.ipynb",
   "parameters": {},
   "start_time": "2025-09-24T08:42:27.975305",
   "version": "2.6.0"
  }
 },
 "nbformat": 4,
 "nbformat_minor": 5
}
