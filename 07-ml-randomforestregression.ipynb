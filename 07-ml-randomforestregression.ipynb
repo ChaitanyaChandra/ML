{
 "cells": [
  {
   "cell_type": "markdown",
   "id": "1d0a4c94",
   "metadata": {
    "_cell_guid": "b1076dfc-b9ad-4769-8c92-a6c4dae69d19",
    "_uuid": "8f2839f25d086af736a60e9eeb907d3b93b6e0e5",
    "papermill": {
     "duration": 0.002523,
     "end_time": "2025-09-25T15:03:57.298279",
     "exception": false,
     "start_time": "2025-09-25T15:03:57.295756",
     "status": "completed"
    },
    "tags": []
   },
   "source": [
    "## Random Forest Regression\n",
    "\n",
    "* A **Random Forest Regressor** predicts the target by combining the outputs of **multiple Decision Trees**.\n",
    "* Each tree is trained on a **random subset of the data (bootstrapping)** and with **random feature selection**.\n",
    "* The final prediction is the **average of predictions from all trees**.\n",
    "\n",
    "### Formula (Conceptual):\n",
    "\n",
    "For a Random Forest with **$T$ trees**, the prediction is:\n",
    "\n",
    "$$\n",
    "\\hat{y}(x) = \\frac{1}{T} \\sum_{t=1}^{T} \\hat{y}^{(t)}(x)\n",
    "$$\n",
    "\n",
    "Where:\n",
    "\n",
    "* **$T$** → Total number of decision trees in the forest\n",
    "* **$\\hat{y}^{(t)}(x)$** → Prediction from the $t$-th decision tree\n",
    "* Final result = **mean prediction across all trees**\n",
    "\n",
    "\n",
    "### Explanation:\n",
    "\n",
    "* Each tree is trained on a **random sample of data** and possibly a **subset of features**.\n",
    "* Trees may overfit individually, but averaging them **reduces variance** and improves generalization.\n",
    "* Unlike a single Decision Tree, Random Forest gives **smoother and more stable predictions**.\n",
    "\n",
    "\n",
    "### What it means:\n",
    "\n",
    "* Instead of one staircase-like function (Decision Tree), Random Forest combines **many staircases** to produce a **more continuous curve**.\n",
    "* Great at capturing **non-linear patterns** without heavy overfitting.\n",
    "* Works well when data has noise.\n",
    "\n",
    "\n",
    "### Example: Position vs Salary (Non-linear Growth)\n",
    "\n",
    "Suppose Salary jumps at career levels, but with some randomness. Random Forest smooths these jumps.\n",
    "\n",
    "| Level (x) | Actual Salary (Y) | Decision Tree Predicted | Random Forest Predicted |\n",
    "| --------- | ----------------- | ----------------------- | ----------------------- |\n",
    "| 1         | 45k               | 45k                     | 44.8k                   |\n",
    "| 3         | 60k               | 60k                     | 59.5k                   |\n",
    "| 6         | 150k              | 150k                    | 149k                    |\n",
    "| 10        | 1M                | 1M                      | 995k                    |\n",
    "\n",
    "Notice how Random Forest **smooths predictions** while still fitting training points closely.\n",
    "\n",
    "---\n",
    "\n",
    "### Solve:\n",
    "\n",
    "* You are given a [Position_Salaries.csv dataset](https://www.kaggle.com/datasets/chaitanyachandra/data-csv?select=Position_Salaries.csv) containing:\n",
    "\n",
    "  * **Position** (string, e.g., \"Business Analyst\", \"CEO\")\n",
    "  * **Level** (numeric, 1–10)\n",
    "  * **Salary** (numeric, target variable)\n",
    "\n",
    "* Build a **Random Forest Regression model** to predict Salary from Level.\n",
    "\n",
    "* Tasks:\n",
    "\n",
    "  * Load and explore the dataset.\n",
    "  * Select `Level` as the independent variable and `Salary` as the dependent variable.\n",
    "  * Train a **Random Forest Regressor** (`RandomForestRegressor` from sklearn).\n",
    "  * Plot predictions vs actual salaries.\n",
    "\n"
   ]
  },
  {
   "cell_type": "code",
   "execution_count": 1,
   "id": "0575576c",
   "metadata": {
    "execution": {
     "iopub.execute_input": "2025-09-25T15:03:57.303507Z",
     "iopub.status.busy": "2025-09-25T15:03:57.303200Z",
     "iopub.status.idle": "2025-09-25T15:03:59.222325Z",
     "shell.execute_reply": "2025-09-25T15:03:59.221367Z"
    },
    "papermill": {
     "duration": 1.92386,
     "end_time": "2025-09-25T15:03:59.224108",
     "exception": false,
     "start_time": "2025-09-25T15:03:57.300248",
     "status": "completed"
    },
    "tags": []
   },
   "outputs": [],
   "source": [
    "# import packages\n",
    "import numpy as np\n",
    "import pandas as pd\n",
    "import matplotlib.pyplot as plt"
   ]
  },
  {
   "cell_type": "code",
   "execution_count": 2,
   "id": "13c5c7d4",
   "metadata": {
    "execution": {
     "iopub.execute_input": "2025-09-25T15:03:59.229227Z",
     "iopub.status.busy": "2025-09-25T15:03:59.228771Z",
     "iopub.status.idle": "2025-09-25T15:03:59.262710Z",
     "shell.execute_reply": "2025-09-25T15:03:59.261735Z"
    },
    "papermill": {
     "duration": 0.038262,
     "end_time": "2025-09-25T15:03:59.264393",
     "exception": false,
     "start_time": "2025-09-25T15:03:59.226131",
     "status": "completed"
    },
    "tags": []
   },
   "outputs": [
    {
     "data": {
      "text/plain": [
       "(array([[ 1],\n",
       "        [ 2],\n",
       "        [ 3],\n",
       "        [ 4],\n",
       "        [ 5],\n",
       "        [ 6],\n",
       "        [ 7],\n",
       "        [ 8],\n",
       "        [ 9],\n",
       "        [10]]),\n",
       " array([[  45000],\n",
       "        [  50000],\n",
       "        [  60000],\n",
       "        [  80000],\n",
       "        [ 110000],\n",
       "        [ 150000],\n",
       "        [ 200000],\n",
       "        [ 300000],\n",
       "        [ 500000],\n",
       "        [1000000]]))"
      ]
     },
     "execution_count": 2,
     "metadata": {},
     "output_type": "execute_result"
    }
   ],
   "source": [
    "# import data-set\n",
    "dataset = pd.read_csv(\"/kaggle/input/data-csv/Position_Salaries.csv\")\n",
    "independent_x = dataset.iloc[:, 1:-1].values\n",
    "dependent_y = dataset.iloc[:, -1].values \n",
    "dependent_y = dependent_y.reshape(len(dependent_y), 1)\n",
    "independent_x, dependent_y"
   ]
  },
  {
   "cell_type": "code",
   "execution_count": 3,
   "id": "77e9cbc6",
   "metadata": {
    "execution": {
     "iopub.execute_input": "2025-09-25T15:03:59.269869Z",
     "iopub.status.busy": "2025-09-25T15:03:59.269509Z",
     "iopub.status.idle": "2025-09-25T15:04:01.256910Z",
     "shell.execute_reply": "2025-09-25T15:04:01.255946Z"
    },
    "papermill": {
     "duration": 1.99191,
     "end_time": "2025-09-25T15:04:01.258469",
     "exception": false,
     "start_time": "2025-09-25T15:03:59.266559",
     "status": "completed"
    },
    "tags": []
   },
   "outputs": [
    {
     "name": "stderr",
     "output_type": "stream",
     "text": [
      "/tmp/ipykernel_13/4021757955.py:4: DataConversionWarning: A column-vector y was passed when a 1d array was expected. Please change the shape of y to (n_samples,), for example using ravel().\n",
      "  regressor.fit(independent_x, dependent_y)\n"
     ]
    },
    {
     "data": {
      "text/html": [
       "<style>#sk-container-id-1 {color: black;background-color: white;}#sk-container-id-1 pre{padding: 0;}#sk-container-id-1 div.sk-toggleable {background-color: white;}#sk-container-id-1 label.sk-toggleable__label {cursor: pointer;display: block;width: 100%;margin-bottom: 0;padding: 0.3em;box-sizing: border-box;text-align: center;}#sk-container-id-1 label.sk-toggleable__label-arrow:before {content: \"▸\";float: left;margin-right: 0.25em;color: #696969;}#sk-container-id-1 label.sk-toggleable__label-arrow:hover:before {color: black;}#sk-container-id-1 div.sk-estimator:hover label.sk-toggleable__label-arrow:before {color: black;}#sk-container-id-1 div.sk-toggleable__content {max-height: 0;max-width: 0;overflow: hidden;text-align: left;background-color: #f0f8ff;}#sk-container-id-1 div.sk-toggleable__content pre {margin: 0.2em;color: black;border-radius: 0.25em;background-color: #f0f8ff;}#sk-container-id-1 input.sk-toggleable__control:checked~div.sk-toggleable__content {max-height: 200px;max-width: 100%;overflow: auto;}#sk-container-id-1 input.sk-toggleable__control:checked~label.sk-toggleable__label-arrow:before {content: \"▾\";}#sk-container-id-1 div.sk-estimator input.sk-toggleable__control:checked~label.sk-toggleable__label {background-color: #d4ebff;}#sk-container-id-1 div.sk-label input.sk-toggleable__control:checked~label.sk-toggleable__label {background-color: #d4ebff;}#sk-container-id-1 input.sk-hidden--visually {border: 0;clip: rect(1px 1px 1px 1px);clip: rect(1px, 1px, 1px, 1px);height: 1px;margin: -1px;overflow: hidden;padding: 0;position: absolute;width: 1px;}#sk-container-id-1 div.sk-estimator {font-family: monospace;background-color: #f0f8ff;border: 1px dotted black;border-radius: 0.25em;box-sizing: border-box;margin-bottom: 0.5em;}#sk-container-id-1 div.sk-estimator:hover {background-color: #d4ebff;}#sk-container-id-1 div.sk-parallel-item::after {content: \"\";width: 100%;border-bottom: 1px solid gray;flex-grow: 1;}#sk-container-id-1 div.sk-label:hover label.sk-toggleable__label {background-color: #d4ebff;}#sk-container-id-1 div.sk-serial::before {content: \"\";position: absolute;border-left: 1px solid gray;box-sizing: border-box;top: 0;bottom: 0;left: 50%;z-index: 0;}#sk-container-id-1 div.sk-serial {display: flex;flex-direction: column;align-items: center;background-color: white;padding-right: 0.2em;padding-left: 0.2em;position: relative;}#sk-container-id-1 div.sk-item {position: relative;z-index: 1;}#sk-container-id-1 div.sk-parallel {display: flex;align-items: stretch;justify-content: center;background-color: white;position: relative;}#sk-container-id-1 div.sk-item::before, #sk-container-id-1 div.sk-parallel-item::before {content: \"\";position: absolute;border-left: 1px solid gray;box-sizing: border-box;top: 0;bottom: 0;left: 50%;z-index: -1;}#sk-container-id-1 div.sk-parallel-item {display: flex;flex-direction: column;z-index: 1;position: relative;background-color: white;}#sk-container-id-1 div.sk-parallel-item:first-child::after {align-self: flex-end;width: 50%;}#sk-container-id-1 div.sk-parallel-item:last-child::after {align-self: flex-start;width: 50%;}#sk-container-id-1 div.sk-parallel-item:only-child::after {width: 0;}#sk-container-id-1 div.sk-dashed-wrapped {border: 1px dashed gray;margin: 0 0.4em 0.5em 0.4em;box-sizing: border-box;padding-bottom: 0.4em;background-color: white;}#sk-container-id-1 div.sk-label label {font-family: monospace;font-weight: bold;display: inline-block;line-height: 1.2em;}#sk-container-id-1 div.sk-label-container {text-align: center;}#sk-container-id-1 div.sk-container {/* jupyter's `normalize.less` sets `[hidden] { display: none; }` but bootstrap.min.css set `[hidden] { display: none !important; }` so we also need the `!important` here to be able to override the default hidden behavior on the sphinx rendered scikit-learn.org. See: https://github.com/scikit-learn/scikit-learn/issues/21755 */display: inline-block !important;position: relative;}#sk-container-id-1 div.sk-text-repr-fallback {display: none;}</style><div id=\"sk-container-id-1\" class=\"sk-top-container\"><div class=\"sk-text-repr-fallback\"><pre>RandomForestRegressor(n_estimators=10, random_state=0)</pre><b>In a Jupyter environment, please rerun this cell to show the HTML representation or trust the notebook. <br />On GitHub, the HTML representation is unable to render, please try loading this page with nbviewer.org.</b></div><div class=\"sk-container\" hidden><div class=\"sk-item\"><div class=\"sk-estimator sk-toggleable\"><input class=\"sk-toggleable__control sk-hidden--visually\" id=\"sk-estimator-id-1\" type=\"checkbox\" checked><label for=\"sk-estimator-id-1\" class=\"sk-toggleable__label sk-toggleable__label-arrow\">RandomForestRegressor</label><div class=\"sk-toggleable__content\"><pre>RandomForestRegressor(n_estimators=10, random_state=0)</pre></div></div></div></div></div>"
      ],
      "text/plain": [
       "RandomForestRegressor(n_estimators=10, random_state=0)"
      ]
     },
     "execution_count": 3,
     "metadata": {},
     "output_type": "execute_result"
    }
   ],
   "source": [
    "# train \n",
    "from sklearn.ensemble import RandomForestRegressor\n",
    "regressor = RandomForestRegressor(random_state=0, n_estimators=10)\n",
    "regressor.fit(independent_x, dependent_y)"
   ]
  },
  {
   "cell_type": "code",
   "execution_count": 4,
   "id": "9c2d1dbe",
   "metadata": {
    "execution": {
     "iopub.execute_input": "2025-09-25T15:04:01.264362Z",
     "iopub.status.busy": "2025-09-25T15:04:01.263841Z",
     "iopub.status.idle": "2025-09-25T15:04:01.271036Z",
     "shell.execute_reply": "2025-09-25T15:04:01.270128Z"
    },
    "papermill": {
     "duration": 0.011559,
     "end_time": "2025-09-25T15:04:01.272432",
     "exception": false,
     "start_time": "2025-09-25T15:04:01.260873",
     "status": "completed"
    },
    "tags": []
   },
   "outputs": [
    {
     "data": {
      "text/plain": [
       "array([167000.])"
      ]
     },
     "execution_count": 4,
     "metadata": {},
     "output_type": "execute_result"
    }
   ],
   "source": [
    "# predict\n",
    "regressor.predict([[6.5]])"
   ]
  },
  {
   "cell_type": "code",
   "execution_count": 5,
   "id": "720e12ca",
   "metadata": {
    "execution": {
     "iopub.execute_input": "2025-09-25T15:04:01.278402Z",
     "iopub.status.busy": "2025-09-25T15:04:01.277970Z",
     "iopub.status.idle": "2025-09-25T15:04:01.750226Z",
     "shell.execute_reply": "2025-09-25T15:04:01.749304Z"
    },
    "papermill": {
     "duration": 0.476868,
     "end_time": "2025-09-25T15:04:01.751741",
     "exception": false,
     "start_time": "2025-09-25T15:04:01.274873",
     "status": "completed"
    },
    "tags": []
   },
   "outputs": [
    {
     "data": {
      "image/png": "[encoded data removed]",
      "text/plain": [
       "<Figure size 1400x600 with 1 Axes>"
      ]
     },
     "metadata": {},
     "output_type": "display_data"
    }
   ],
   "source": [
    "# plot\n",
    "plt.figure(figsize=(14, 6))\n",
    "plt.scatter(independent_x, dependent_y, color=\"red\", label=\"actual\")\n",
    "plt.plot(independent_x, regressor.predict(independent_x), label=\"predicted\", marker=\"x\")\n",
    "plt.legend()\n",
    "plt.tight_layout()\n",
    "plt.show()"
   ]
  }
 ],
 "metadata": {
  "kaggle": {
   "accelerator": "none",
   "dataSources": [
    {
     "databundleVersionId": 12894220,
     "datasetId": 7769196,
     "sourceId": 12337420,
     "sourceType": "datasetVersion"
    }
   ],
   "dockerImageVersionId": 31089,
   "isGpuEnabled": false,
   "isInternetEnabled": true,
   "language": "python",
   "sourceType": "notebook"
  },
  "kernelspec": {
   "display_name": "Python 3",
   "language": "python",
   "name": "python3"
  },
  "language_info": {
   "codemirror_mode": {
    "name": "ipython",
    "version": 3
   },
   "file_extension": ".py",
   "mimetype": "text/x-python",
   "name": "python",
   "nbconvert_exporter": "python",
   "pygments_lexer": "ipython3",
   "version": "3.11.13"
  },
  "papermill": {
   "default_parameters": {},
   "duration": 10.540007,
   "end_time": "2025-09-25T15:04:02.475311",
   "environment_variables": {},
   "exception": null,
   "input_path": "__notebook__.ipynb",
   "output_path": "__notebook__.ipynb",
   "parameters": {},
   "start_time": "2025-09-25T15:03:51.935304",
   "version": "2.6.0"
  }
 },
 "nbformat": 4,
 "nbformat_minor": 5
}
